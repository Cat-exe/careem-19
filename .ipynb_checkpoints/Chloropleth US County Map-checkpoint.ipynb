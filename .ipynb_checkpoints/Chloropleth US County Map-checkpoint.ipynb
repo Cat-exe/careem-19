{
 "cells": [
  {
   "cell_type": "code",
   "execution_count": null,
   "metadata": {},
   "outputs": [],
   "source": [
    "import pandas as pd\n",
    "import numpy as np\n",
    "import seaborn as sns\n",
    "from scipy.integrate import odeint\n",
    "import plotly as py\n",
    "import seaborn as sns\n",
    "import plotly.express as px\n",
    "import plotly.graph_objs as go\n",
    "from plotly.subplots import make_subplots\n",
    "from plotly.offline import download_plotlyjs, init_notebook_mode, plot, iplot\n",
    "init_notebook_mode(connected=False)\n",
    "import datetime\n",
    "from plotly.offline import iplot, init_notebook_mode\n",
    "import math\n",
    "import bokeh \n",
    "import matplotlib.pyplot as plt\n",
    "import plotly.express as px\n",
    "from urllib2 import urlopen\n",
    "import json\n",
    "from dateutil import parser\n",
    "from bokeh.layouts import gridplot\n",
    "from bokeh.plotting import figure, show, output_file\n",
    "from bokeh.layouts import row, column\n",
    "from bokeh.resources import INLINE\n",
    "from bokeh.io import output_notebook\n",
    "from bokeh.models import Span\n",
    "import warnings\n",
    "warnings.filterwarnings(\"ignore\")\n",
    "output_notebook(resources=INLINE)"
   ]
  },
  {
   "cell_type": "code",
   "execution_count": null,
   "metadata": {},
   "outputs": [],
   "source": [
    "pd.options.mode.chained_assignment = None\n",
    "\n",
    "response = urlopen('https://raw.githubusercontent.com/plotly/datasets/master/geojson-counties-fips.json')\n",
    "counties = json.load(response)\n",
    "\n",
    "us_covid_df = pd.read_csv(\"us-counties.csv\", dtype={\"fips\": str})\n",
    "us_covid_df.head()"
   ]
  },
  {
   "cell_type": "code",
   "execution_count": null,
   "metadata": {},
   "outputs": [],
   "source": [
    "cumulative_df = us_covid_df.groupby([\"fips\",\"date\"])[\"cases\",\"deaths\"].sum().reset_index()\n",
    "cumulative_df[\"date\"] = pd.to_datetime(cumulative_df[\"date\"] , format=\"%Y-%m-%d\").dt.date\n",
    "cumulative_df = cumulative_df.sort_values(by=\"date\")\n",
    "start_date = datetime.date(2020, 1, 21)\n",
    "cumulative_df = cumulative_df[cumulative_df[\"date\"]>=start_date]\n",
    "cumulative_df[\"date\"] = cumulative_df[\"date\"].astype(str)\n",
    "\n",
    "fig = px.choropleth( cumulative_df, \n",
    "                    geojson=counties, \n",
    "                    locations='fips', \n",
    "                    color='cases',\n",
    "                    color_continuous_scale=\"Viridis\",\n",
    "                    range_color=(0, 50000),\n",
    "                    scope=\"usa\",\n",
    "                    labels={'cases':'Cases'}\n",
    "                   )\n",
    "\n",
    "layout = go.Layout(\n",
    "    title=go.layout.Title(\n",
    "        text=\"Cumulative count of COVID-19 cases in US states\",\n",
    "        x=0.5\n",
    "    ),\n",
    "    font=dict(size=14),\n",
    ")\n",
    "\n",
    "fig.update_layout(layout)\n",
    "fig.show()"
   ]
  },
  {
   "cell_type": "code",
   "execution_count": null,
   "metadata": {},
   "outputs": [],
   "source": []
  }
 ],
 "metadata": {
  "kernelspec": {
   "display_name": "Python 2",
   "language": "python",
   "name": "python2"
  },
  "language_info": {
   "codemirror_mode": {
    "name": "ipython",
    "version": 2
   },
   "file_extension": ".py",
   "mimetype": "text/x-python",
   "name": "python",
   "nbconvert_exporter": "python",
   "pygments_lexer": "ipython2",
   "version": "2.7.16"
  },
  "widgets": {
   "application/vnd.jupyter.widget-state+json": {
    "state": {},
    "version_major": 2,
    "version_minor": 0
   }
  }
 },
 "nbformat": 4,
 "nbformat_minor": 2
}
