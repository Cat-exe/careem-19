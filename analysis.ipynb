{
 "cells": [
  {
   "cell_type": "markdown",
   "metadata": {},
   "source": [
    "# COVID-19 Analysis\n",
    "Data Source: https://github.com/nytimes/covid-19-data/pulse"
   ]
  },
  {
   "cell_type": "code",
   "execution_count": 24,
   "metadata": {},
   "outputs": [],
   "source": [
    "#Load all the libraries!\n",
    "import pandas as pd\n",
    "import matplotlib.pyplot as plt\n",
    "from matplotlib.dates import DateFormatter\n",
    "import matplotlib.ticker as ticker\n",
    "import matplotlib.colors as mcolors\n",
    "\n",
    "\n",
    "#for scatterplot and choropleth map\n",
    "import plotly.graph_objects as go\n",
    "\n",
    "\n",
    "#For prediction model\n",
    "import random\n",
    "import math\n",
    "import time\n",
    "from sklearn.model_selection import RandomizedSearchCV, train_test_split\n",
    "from sklearn.svm import SVR #To build the model.\n",
    "from sklearn.metrics import mean_squared_error, mean_absolute_error\n",
    "import datetime\n",
    "import operator\n",
    "plt.style.use('seaborn')\n",
    "\n",
    "\n",
    "%matplotlib inline"
   ]
  },
  {
   "cell_type": "markdown",
   "metadata": {},
   "source": [
    "## Plotting Cases in Specific States: NY, WA, CA, WV, GA"
   ]
  },
  {
   "cell_type": "code",
   "execution_count": 25,
   "metadata": {},
   "outputs": [
    {
     "name": "stdout",
     "output_type": "stream",
     "text": [
      "['New York', 'Washington', 'California', 'West Virginia', 'Georgia']\n"
     ]
    }
   ],
   "source": [
    "#Reading in dataset and selecting data.\n",
    "df = pd.read_csv(\"https://raw.githubusercontent.com/nytimes/covid-19-data/master/us-states.csv\",  parse_dates=['date'])\n",
    "states = [\"New York\", \"Washington\", \"California\", \"West Virginia\", \"Georgia\"]\n",
    "#states = df.state.unique() #This is for all 50 states.\n",
    "print(states)\n",
    "df = df[df[\"state\"].isin(states)]\n"
   ]
  },
  {
   "cell_type": "code",
   "execution_count": 26,
   "metadata": {},
   "outputs": [
    {
     "data": {
      "text/html": [
       "<div>\n",
       "<style scoped>\n",
       "    .dataframe tbody tr th:only-of-type {\n",
       "        vertical-align: middle;\n",
       "    }\n",
       "\n",
       "    .dataframe tbody tr th {\n",
       "        vertical-align: top;\n",
       "    }\n",
       "\n",
       "    .dataframe thead th {\n",
       "        text-align: right;\n",
       "    }\n",
       "</style>\n",
       "<table border=\"1\" class=\"dataframe\">\n",
       "  <thead>\n",
       "    <tr style=\"text-align: right;\">\n",
       "      <th></th>\n",
       "      <th>date</th>\n",
       "      <th>state</th>\n",
       "      <th>fips</th>\n",
       "      <th>cases</th>\n",
       "      <th>deaths</th>\n",
       "    </tr>\n",
       "  </thead>\n",
       "  <tbody>\n",
       "    <tr>\n",
       "      <th>0</th>\n",
       "      <td>2020-01-21</td>\n",
       "      <td>Washington</td>\n",
       "      <td>53</td>\n",
       "      <td>1</td>\n",
       "      <td>0</td>\n",
       "    </tr>\n",
       "    <tr>\n",
       "      <th>1</th>\n",
       "      <td>2020-01-22</td>\n",
       "      <td>Washington</td>\n",
       "      <td>53</td>\n",
       "      <td>1</td>\n",
       "      <td>0</td>\n",
       "    </tr>\n",
       "    <tr>\n",
       "      <th>2</th>\n",
       "      <td>2020-01-23</td>\n",
       "      <td>Washington</td>\n",
       "      <td>53</td>\n",
       "      <td>1</td>\n",
       "      <td>0</td>\n",
       "    </tr>\n",
       "    <tr>\n",
       "      <th>4</th>\n",
       "      <td>2020-01-24</td>\n",
       "      <td>Washington</td>\n",
       "      <td>53</td>\n",
       "      <td>1</td>\n",
       "      <td>0</td>\n",
       "    </tr>\n",
       "    <tr>\n",
       "      <th>5</th>\n",
       "      <td>2020-01-25</td>\n",
       "      <td>California</td>\n",
       "      <td>6</td>\n",
       "      <td>1</td>\n",
       "      <td>0</td>\n",
       "    </tr>\n",
       "    <tr>\n",
       "      <th>...</th>\n",
       "      <td>...</td>\n",
       "      <td>...</td>\n",
       "      <td>...</td>\n",
       "      <td>...</td>\n",
       "      <td>...</td>\n",
       "    </tr>\n",
       "    <tr>\n",
       "      <th>4308</th>\n",
       "      <td>2020-05-20</td>\n",
       "      <td>California</td>\n",
       "      <td>6</td>\n",
       "      <td>86125</td>\n",
       "      <td>3514</td>\n",
       "    </tr>\n",
       "    <tr>\n",
       "      <th>4314</th>\n",
       "      <td>2020-05-20</td>\n",
       "      <td>Georgia</td>\n",
       "      <td>13</td>\n",
       "      <td>38162</td>\n",
       "      <td>1672</td>\n",
       "    </tr>\n",
       "    <tr>\n",
       "      <th>4337</th>\n",
       "      <td>2020-05-20</td>\n",
       "      <td>New York</td>\n",
       "      <td>36</td>\n",
       "      <td>359235</td>\n",
       "      <td>28540</td>\n",
       "    </tr>\n",
       "    <tr>\n",
       "      <th>4355</th>\n",
       "      <td>2020-05-20</td>\n",
       "      <td>Washington</td>\n",
       "      <td>53</td>\n",
       "      <td>19864</td>\n",
       "      <td>1045</td>\n",
       "    </tr>\n",
       "    <tr>\n",
       "      <th>4356</th>\n",
       "      <td>2020-05-20</td>\n",
       "      <td>West Virginia</td>\n",
       "      <td>54</td>\n",
       "      <td>1567</td>\n",
       "      <td>69</td>\n",
       "    </tr>\n",
       "  </tbody>\n",
       "</table>\n",
       "<p>464 rows × 5 columns</p>\n",
       "</div>"
      ],
      "text/plain": [
       "           date          state  fips   cases  deaths\n",
       "0    2020-01-21     Washington    53       1       0\n",
       "1    2020-01-22     Washington    53       1       0\n",
       "2    2020-01-23     Washington    53       1       0\n",
       "4    2020-01-24     Washington    53       1       0\n",
       "5    2020-01-25     California     6       1       0\n",
       "...         ...            ...   ...     ...     ...\n",
       "4308 2020-05-20     California     6   86125    3514\n",
       "4314 2020-05-20        Georgia    13   38162    1672\n",
       "4337 2020-05-20       New York    36  359235   28540\n",
       "4355 2020-05-20     Washington    53   19864    1045\n",
       "4356 2020-05-20  West Virginia    54    1567      69\n",
       "\n",
       "[464 rows x 5 columns]"
      ]
     },
     "execution_count": 26,
     "metadata": {},
     "output_type": "execute_result"
    }
   ],
   "source": [
    "#Displaying first 5 rows\n",
    "df.head(-5)"
   ]
  },
  {
   "cell_type": "code",
   "execution_count": 27,
   "metadata": {},
   "outputs": [
    {
     "name": "stdout",
     "output_type": "stream",
     "text": [
      "['California', 'Georgia', 'New York', 'Washington', 'West Virginia']\n"
     ]
    }
   ],
   "source": [
    "#Restructuring the data\n",
    "df = df.pivot(index='date', columns='state', values ='cases')\n",
    "states = list(df.columns)\n",
    "print(states)\n",
    "covid = df.reset_index('date')\n",
    "covid.set_index(['date'], inplace = True)\n",
    "covid.columns = states\n",
    "\n",
    "#Calculating Rates per 1000 (Generate a number of cases per 1000 people)\n",
    "populations = {\"New York\":19491339, \"Washington\":7797095, \"California\":\t39937489, \"West Virginia\":1778070, \"Georgia\":10736059}\n",
    "percapita = covid.copy()\n",
    "for state in list(percapita.columns):\n",
    "    percapita[state] = percapita[state]/populations[state]*1000"
   ]
  },
  {
   "cell_type": "code",
   "execution_count": 28,
   "metadata": {},
   "outputs": [],
   "source": [
    "#Generate colors and style for the visualization.\n",
    "colors = {\"California\":\"#17B343\",\"Georgia\": \"#723772\", 'New York': \"#001D55\", \"Washington\": \"#FF001E\",  \"West Virginia\": \"#EA8C17\" }\n",
    "plt.style.use('fivethirtyeight')"
   ]
  },
  {
   "cell_type": "code",
   "execution_count": 29,
   "metadata": {},
   "outputs": [
    {
     "data": {
      "text/html": [
       "<div>\n",
       "<style scoped>\n",
       "    .dataframe tbody tr th:only-of-type {\n",
       "        vertical-align: middle;\n",
       "    }\n",
       "\n",
       "    .dataframe tbody tr th {\n",
       "        vertical-align: top;\n",
       "    }\n",
       "\n",
       "    .dataframe thead th {\n",
       "        text-align: right;\n",
       "    }\n",
       "</style>\n",
       "<table border=\"1\" class=\"dataframe\">\n",
       "  <thead>\n",
       "    <tr style=\"text-align: right;\">\n",
       "      <th></th>\n",
       "      <th>California</th>\n",
       "      <th>Georgia</th>\n",
       "      <th>New York</th>\n",
       "      <th>Washington</th>\n",
       "      <th>West Virginia</th>\n",
       "    </tr>\n",
       "    <tr>\n",
       "      <th>date</th>\n",
       "      <th></th>\n",
       "      <th></th>\n",
       "      <th></th>\n",
       "      <th></th>\n",
       "      <th></th>\n",
       "    </tr>\n",
       "  </thead>\n",
       "  <tbody>\n",
       "    <tr>\n",
       "      <th>2020-01-21</th>\n",
       "      <td>NaN</td>\n",
       "      <td>NaN</td>\n",
       "      <td>NaN</td>\n",
       "      <td>1.0</td>\n",
       "      <td>NaN</td>\n",
       "    </tr>\n",
       "    <tr>\n",
       "      <th>2020-01-22</th>\n",
       "      <td>NaN</td>\n",
       "      <td>NaN</td>\n",
       "      <td>NaN</td>\n",
       "      <td>1.0</td>\n",
       "      <td>NaN</td>\n",
       "    </tr>\n",
       "    <tr>\n",
       "      <th>2020-01-23</th>\n",
       "      <td>NaN</td>\n",
       "      <td>NaN</td>\n",
       "      <td>NaN</td>\n",
       "      <td>1.0</td>\n",
       "      <td>NaN</td>\n",
       "    </tr>\n",
       "    <tr>\n",
       "      <th>2020-01-24</th>\n",
       "      <td>NaN</td>\n",
       "      <td>NaN</td>\n",
       "      <td>NaN</td>\n",
       "      <td>1.0</td>\n",
       "      <td>NaN</td>\n",
       "    </tr>\n",
       "    <tr>\n",
       "      <th>2020-01-25</th>\n",
       "      <td>1.0</td>\n",
       "      <td>NaN</td>\n",
       "      <td>NaN</td>\n",
       "      <td>1.0</td>\n",
       "      <td>NaN</td>\n",
       "    </tr>\n",
       "    <tr>\n",
       "      <th>...</th>\n",
       "      <td>...</td>\n",
       "      <td>...</td>\n",
       "      <td>...</td>\n",
       "      <td>...</td>\n",
       "      <td>...</td>\n",
       "    </tr>\n",
       "    <tr>\n",
       "      <th>2020-05-17</th>\n",
       "      <td>80366.0</td>\n",
       "      <td>35954.0</td>\n",
       "      <td>355037.0</td>\n",
       "      <td>19281.0</td>\n",
       "      <td>1492.0</td>\n",
       "    </tr>\n",
       "    <tr>\n",
       "      <th>2020-05-18</th>\n",
       "      <td>81943.0</td>\n",
       "      <td>36634.0</td>\n",
       "      <td>356278.0</td>\n",
       "      <td>19521.0</td>\n",
       "      <td>1502.0</td>\n",
       "    </tr>\n",
       "    <tr>\n",
       "      <th>2020-05-19</th>\n",
       "      <td>83981.0</td>\n",
       "      <td>37214.0</td>\n",
       "      <td>357757.0</td>\n",
       "      <td>19746.0</td>\n",
       "      <td>1514.0</td>\n",
       "    </tr>\n",
       "    <tr>\n",
       "      <th>2020-05-20</th>\n",
       "      <td>86125.0</td>\n",
       "      <td>38162.0</td>\n",
       "      <td>359235.0</td>\n",
       "      <td>19864.0</td>\n",
       "      <td>1567.0</td>\n",
       "    </tr>\n",
       "    <tr>\n",
       "      <th>2020-05-21</th>\n",
       "      <td>88488.0</td>\n",
       "      <td>38969.0</td>\n",
       "      <td>361313.0</td>\n",
       "      <td>20033.0</td>\n",
       "      <td>1603.0</td>\n",
       "    </tr>\n",
       "  </tbody>\n",
       "</table>\n",
       "<p>122 rows × 5 columns</p>\n",
       "</div>"
      ],
      "text/plain": [
       "            California  Georgia  New York  Washington  West Virginia\n",
       "date                                                                \n",
       "2020-01-21         NaN      NaN       NaN         1.0            NaN\n",
       "2020-01-22         NaN      NaN       NaN         1.0            NaN\n",
       "2020-01-23         NaN      NaN       NaN         1.0            NaN\n",
       "2020-01-24         NaN      NaN       NaN         1.0            NaN\n",
       "2020-01-25         1.0      NaN       NaN         1.0            NaN\n",
       "...                ...      ...       ...         ...            ...\n",
       "2020-05-17     80366.0  35954.0  355037.0     19281.0         1492.0\n",
       "2020-05-18     81943.0  36634.0  356278.0     19521.0         1502.0\n",
       "2020-05-19     83981.0  37214.0  357757.0     19746.0         1514.0\n",
       "2020-05-20     86125.0  38162.0  359235.0     19864.0         1567.0\n",
       "2020-05-21     88488.0  38969.0  361313.0     20033.0         1603.0\n",
       "\n",
       "[122 rows x 5 columns]"
      ]
     },
     "execution_count": 29,
     "metadata": {},
     "output_type": "execute_result"
    }
   ],
   "source": [
    "covid #See how the columns are displayed (pay attention to the order of the columns for future lists)"
   ]
  },
  {
   "cell_type": "code",
   "execution_count": 30,
   "metadata": {},
   "outputs": [
    {
     "data": {
      "text/plain": [
       "Text(2020-01-22 00:00:00, -100000, 'careem-19             Source: https://github.com/nytimes/covid-19-data/blob/master/us-states.csv')"
      ]
     },
     "execution_count": 30,
     "metadata": {},
     "output_type": "execute_result"
    },
    {
     "data": {
      "image/png": "[encoded data removed]",
      "text/plain": [
       "<Figure size 720x576 with 1 Axes>"
      ]
     },
     "metadata": {},
     "output_type": "display_data"
    }
   ],
   "source": [
    "#Creating the visualization of cases over time.\n",
    "plot = covid.plot(figsize=(10,8), color=list(colors.values()), linewidth=5, legend=False)\n",
    "plot.yaxis.set_major_formatter(ticker.StrMethodFormatter('{x:,.0f}'))\n",
    "\n",
    "plot.set_xlabel('Date')\n",
    "plot.set_ylabel('# of Cases')\n",
    "\n",
    "#Assigning color.\n",
    "for state in list(colors.keys()):\n",
    "    plot.text(x=covid.index[-1], y = covid[state].max(), color = colors[state], s = state, fontsize=10, weight=\"bold\")\n",
    "\n",
    "#Adding labels\n",
    "plot.text(x = covid.index[1], y = int(covid.max().max())+45000, s = \"COVID-19 Cases by State\", fontsize=23, weight='bold', alpha=.75)\n",
    "plot.text(x = covid.index[1], y = int(covid.max().max())+30000, s = \"For New York, Washington, California, West Virginia, and Georgia\", fontsize=14, alpha=.75)\n",
    "plot.text(x = percapita.index[1], y = -100000, s = 'careem-19             Source: https://github.com/nytimes/covid-19-data/blob/master/us-states.csv', fontsize = 10)\n"
   ]
  },
  {
   "cell_type": "markdown",
   "metadata": {},
   "source": [
    "## Prediction Model (Incomplete)"
   ]
  },
  {
   "cell_type": "code",
   "execution_count": 31,
   "metadata": {},
   "outputs": [],
   "source": [
    "covid_t = covid.T"
   ]
  },
  {
   "cell_type": "code",
   "execution_count": 32,
   "metadata": {},
   "outputs": [
    {
     "data": {
      "text/html": [
       "<div>\n",
       "<style scoped>\n",
       "    .dataframe tbody tr th:only-of-type {\n",
       "        vertical-align: middle;\n",
       "    }\n",
       "\n",
       "    .dataframe tbody tr th {\n",
       "        vertical-align: top;\n",
       "    }\n",
       "\n",
       "    .dataframe thead th {\n",
       "        text-align: right;\n",
       "    }\n",
       "</style>\n",
       "<table border=\"1\" class=\"dataframe\">\n",
       "  <thead>\n",
       "    <tr style=\"text-align: right;\">\n",
       "      <th>date</th>\n",
       "      <th>2020-01-21</th>\n",
       "      <th>2020-01-22</th>\n",
       "      <th>2020-01-23</th>\n",
       "      <th>2020-01-24</th>\n",
       "      <th>2020-01-25</th>\n",
       "      <th>2020-01-26</th>\n",
       "      <th>2020-01-27</th>\n",
       "      <th>2020-01-28</th>\n",
       "      <th>2020-01-29</th>\n",
       "      <th>2020-01-30</th>\n",
       "      <th>...</th>\n",
       "      <th>2020-05-12</th>\n",
       "      <th>2020-05-13</th>\n",
       "      <th>2020-05-14</th>\n",
       "      <th>2020-05-15</th>\n",
       "      <th>2020-05-16</th>\n",
       "      <th>2020-05-17</th>\n",
       "      <th>2020-05-18</th>\n",
       "      <th>2020-05-19</th>\n",
       "      <th>2020-05-20</th>\n",
       "      <th>2020-05-21</th>\n",
       "    </tr>\n",
       "  </thead>\n",
       "  <tbody>\n",
       "    <tr>\n",
       "      <th>California</th>\n",
       "      <td>NaN</td>\n",
       "      <td>NaN</td>\n",
       "      <td>NaN</td>\n",
       "      <td>NaN</td>\n",
       "      <td>1.0</td>\n",
       "      <td>2.0</td>\n",
       "      <td>2.0</td>\n",
       "      <td>2.0</td>\n",
       "      <td>2.0</td>\n",
       "      <td>2.0</td>\n",
       "      <td>...</td>\n",
       "      <td>71150.0</td>\n",
       "      <td>73218.0</td>\n",
       "      <td>74947.0</td>\n",
       "      <td>77015.0</td>\n",
       "      <td>78933.0</td>\n",
       "      <td>80366.0</td>\n",
       "      <td>81943.0</td>\n",
       "      <td>83981.0</td>\n",
       "      <td>86125.0</td>\n",
       "      <td>88488.0</td>\n",
       "    </tr>\n",
       "    <tr>\n",
       "      <th>Georgia</th>\n",
       "      <td>NaN</td>\n",
       "      <td>NaN</td>\n",
       "      <td>NaN</td>\n",
       "      <td>NaN</td>\n",
       "      <td>NaN</td>\n",
       "      <td>NaN</td>\n",
       "      <td>NaN</td>\n",
       "      <td>NaN</td>\n",
       "      <td>NaN</td>\n",
       "      <td>NaN</td>\n",
       "      <td>...</td>\n",
       "      <td>33311.0</td>\n",
       "      <td>33866.0</td>\n",
       "      <td>34422.0</td>\n",
       "      <td>35242.0</td>\n",
       "      <td>35655.0</td>\n",
       "      <td>35954.0</td>\n",
       "      <td>36634.0</td>\n",
       "      <td>37214.0</td>\n",
       "      <td>38162.0</td>\n",
       "      <td>38969.0</td>\n",
       "    </tr>\n",
       "    <tr>\n",
       "      <th>New York</th>\n",
       "      <td>NaN</td>\n",
       "      <td>NaN</td>\n",
       "      <td>NaN</td>\n",
       "      <td>NaN</td>\n",
       "      <td>NaN</td>\n",
       "      <td>NaN</td>\n",
       "      <td>NaN</td>\n",
       "      <td>NaN</td>\n",
       "      <td>NaN</td>\n",
       "      <td>NaN</td>\n",
       "      <td>...</td>\n",
       "      <td>343705.0</td>\n",
       "      <td>345828.0</td>\n",
       "      <td>348192.0</td>\n",
       "      <td>350951.0</td>\n",
       "      <td>353136.0</td>\n",
       "      <td>355037.0</td>\n",
       "      <td>356278.0</td>\n",
       "      <td>357757.0</td>\n",
       "      <td>359235.0</td>\n",
       "      <td>361313.0</td>\n",
       "    </tr>\n",
       "    <tr>\n",
       "      <th>Washington</th>\n",
       "      <td>1.0</td>\n",
       "      <td>1.0</td>\n",
       "      <td>1.0</td>\n",
       "      <td>1.0</td>\n",
       "      <td>1.0</td>\n",
       "      <td>1.0</td>\n",
       "      <td>1.0</td>\n",
       "      <td>1.0</td>\n",
       "      <td>1.0</td>\n",
       "      <td>1.0</td>\n",
       "      <td>...</td>\n",
       "      <td>18186.0</td>\n",
       "      <td>18287.0</td>\n",
       "      <td>18649.0</td>\n",
       "      <td>18913.0</td>\n",
       "      <td>19109.0</td>\n",
       "      <td>19281.0</td>\n",
       "      <td>19521.0</td>\n",
       "      <td>19746.0</td>\n",
       "      <td>19864.0</td>\n",
       "      <td>20033.0</td>\n",
       "    </tr>\n",
       "    <tr>\n",
       "      <th>West Virginia</th>\n",
       "      <td>NaN</td>\n",
       "      <td>NaN</td>\n",
       "      <td>NaN</td>\n",
       "      <td>NaN</td>\n",
       "      <td>NaN</td>\n",
       "      <td>NaN</td>\n",
       "      <td>NaN</td>\n",
       "      <td>NaN</td>\n",
       "      <td>NaN</td>\n",
       "      <td>NaN</td>\n",
       "      <td>...</td>\n",
       "      <td>1378.0</td>\n",
       "      <td>1404.0</td>\n",
       "      <td>1434.0</td>\n",
       "      <td>1447.0</td>\n",
       "      <td>1470.0</td>\n",
       "      <td>1492.0</td>\n",
       "      <td>1502.0</td>\n",
       "      <td>1514.0</td>\n",
       "      <td>1567.0</td>\n",
       "      <td>1603.0</td>\n",
       "    </tr>\n",
       "  </tbody>\n",
       "</table>\n",
       "<p>5 rows × 122 columns</p>\n",
       "</div>"
      ],
      "text/plain": [
       "date           2020-01-21  2020-01-22  2020-01-23  2020-01-24  2020-01-25  \\\n",
       "California            NaN         NaN         NaN         NaN         1.0   \n",
       "Georgia               NaN         NaN         NaN         NaN         NaN   \n",
       "New York              NaN         NaN         NaN         NaN         NaN   \n",
       "Washington            1.0         1.0         1.0         1.0         1.0   \n",
       "West Virginia         NaN         NaN         NaN         NaN         NaN   \n",
       "\n",
       "date           2020-01-26  2020-01-27  2020-01-28  2020-01-29  2020-01-30  \\\n",
       "California            2.0         2.0         2.0         2.0         2.0   \n",
       "Georgia               NaN         NaN         NaN         NaN         NaN   \n",
       "New York              NaN         NaN         NaN         NaN         NaN   \n",
       "Washington            1.0         1.0         1.0         1.0         1.0   \n",
       "West Virginia         NaN         NaN         NaN         NaN         NaN   \n",
       "\n",
       "date           ...  2020-05-12  2020-05-13  2020-05-14  2020-05-15  \\\n",
       "California     ...     71150.0     73218.0     74947.0     77015.0   \n",
       "Georgia        ...     33311.0     33866.0     34422.0     35242.0   \n",
       "New York       ...    343705.0    345828.0    348192.0    350951.0   \n",
       "Washington     ...     18186.0     18287.0     18649.0     18913.0   \n",
       "West Virginia  ...      1378.0      1404.0      1434.0      1447.0   \n",
       "\n",
       "date           2020-05-16  2020-05-17  2020-05-18  2020-05-19  2020-05-20  \\\n",
       "California        78933.0     80366.0     81943.0     83981.0     86125.0   \n",
       "Georgia           35655.0     35954.0     36634.0     37214.0     38162.0   \n",
       "New York         353136.0    355037.0    356278.0    357757.0    359235.0   \n",
       "Washington        19109.0     19281.0     19521.0     19746.0     19864.0   \n",
       "West Virginia      1470.0      1492.0      1502.0      1514.0      1567.0   \n",
       "\n",
       "date           2020-05-21  \n",
       "California        88488.0  \n",
       "Georgia           38969.0  \n",
       "New York         361313.0  \n",
       "Washington        20033.0  \n",
       "West Virginia      1603.0  \n",
       "\n",
       "[5 rows x 122 columns]"
      ]
     },
     "execution_count": 32,
     "metadata": {},
     "output_type": "execute_result"
    }
   ],
   "source": [
    "covid_t"
   ]
  },
  {
   "cell_type": "code",
   "execution_count": 33,
   "metadata": {},
   "outputs": [
    {
     "data": {
      "text/html": [
       "<div>\n",
       "<style scoped>\n",
       "    .dataframe tbody tr th:only-of-type {\n",
       "        vertical-align: middle;\n",
       "    }\n",
       "\n",
       "    .dataframe tbody tr th {\n",
       "        vertical-align: top;\n",
       "    }\n",
       "\n",
       "    .dataframe thead th {\n",
       "        text-align: right;\n",
       "    }\n",
       "</style>\n",
       "<table border=\"1\" class=\"dataframe\">\n",
       "  <thead>\n",
       "    <tr style=\"text-align: right;\">\n",
       "      <th>date</th>\n",
       "      <th>2020-01-21</th>\n",
       "      <th>2020-01-22</th>\n",
       "      <th>2020-01-23</th>\n",
       "      <th>2020-01-24</th>\n",
       "      <th>2020-01-25</th>\n",
       "      <th>2020-01-26</th>\n",
       "      <th>2020-01-27</th>\n",
       "      <th>2020-01-28</th>\n",
       "      <th>2020-01-29</th>\n",
       "      <th>2020-01-30</th>\n",
       "      <th>...</th>\n",
       "      <th>2020-05-12</th>\n",
       "      <th>2020-05-13</th>\n",
       "      <th>2020-05-14</th>\n",
       "      <th>2020-05-15</th>\n",
       "      <th>2020-05-16</th>\n",
       "      <th>2020-05-17</th>\n",
       "      <th>2020-05-18</th>\n",
       "      <th>2020-05-19</th>\n",
       "      <th>2020-05-20</th>\n",
       "      <th>2020-05-21</th>\n",
       "    </tr>\n",
       "    <tr>\n",
       "      <th>state</th>\n",
       "      <th></th>\n",
       "      <th></th>\n",
       "      <th></th>\n",
       "      <th></th>\n",
       "      <th></th>\n",
       "      <th></th>\n",
       "      <th></th>\n",
       "      <th></th>\n",
       "      <th></th>\n",
       "      <th></th>\n",
       "      <th></th>\n",
       "      <th></th>\n",
       "      <th></th>\n",
       "      <th></th>\n",
       "      <th></th>\n",
       "      <th></th>\n",
       "      <th></th>\n",
       "      <th></th>\n",
       "      <th></th>\n",
       "      <th></th>\n",
       "      <th></th>\n",
       "    </tr>\n",
       "  </thead>\n",
       "  <tbody>\n",
       "    <tr>\n",
       "      <th>Alabama</th>\n",
       "      <td>NaN</td>\n",
       "      <td>NaN</td>\n",
       "      <td>NaN</td>\n",
       "      <td>NaN</td>\n",
       "      <td>NaN</td>\n",
       "      <td>NaN</td>\n",
       "      <td>NaN</td>\n",
       "      <td>NaN</td>\n",
       "      <td>NaN</td>\n",
       "      <td>NaN</td>\n",
       "      <td>...</td>\n",
       "      <td>10464.0</td>\n",
       "      <td>10700.0</td>\n",
       "      <td>11101.0</td>\n",
       "      <td>11373.0</td>\n",
       "      <td>11674.0</td>\n",
       "      <td>11771.0</td>\n",
       "      <td>12086.0</td>\n",
       "      <td>12376.0</td>\n",
       "      <td>13052.0</td>\n",
       "      <td>13414.0</td>\n",
       "    </tr>\n",
       "    <tr>\n",
       "      <th>Alaska</th>\n",
       "      <td>NaN</td>\n",
       "      <td>NaN</td>\n",
       "      <td>NaN</td>\n",
       "      <td>NaN</td>\n",
       "      <td>NaN</td>\n",
       "      <td>NaN</td>\n",
       "      <td>NaN</td>\n",
       "      <td>NaN</td>\n",
       "      <td>NaN</td>\n",
       "      <td>NaN</td>\n",
       "      <td>...</td>\n",
       "      <td>383.0</td>\n",
       "      <td>383.0</td>\n",
       "      <td>387.0</td>\n",
       "      <td>388.0</td>\n",
       "      <td>392.0</td>\n",
       "      <td>396.0</td>\n",
       "      <td>399.0</td>\n",
       "      <td>399.0</td>\n",
       "      <td>402.0</td>\n",
       "      <td>402.0</td>\n",
       "    </tr>\n",
       "    <tr>\n",
       "      <th>Arizona</th>\n",
       "      <td>NaN</td>\n",
       "      <td>NaN</td>\n",
       "      <td>NaN</td>\n",
       "      <td>NaN</td>\n",
       "      <td>NaN</td>\n",
       "      <td>1.0</td>\n",
       "      <td>1.0</td>\n",
       "      <td>1.0</td>\n",
       "      <td>1.0</td>\n",
       "      <td>1.0</td>\n",
       "      <td>...</td>\n",
       "      <td>11736.0</td>\n",
       "      <td>12176.0</td>\n",
       "      <td>12674.0</td>\n",
       "      <td>13169.0</td>\n",
       "      <td>13631.0</td>\n",
       "      <td>13937.0</td>\n",
       "      <td>14170.0</td>\n",
       "      <td>14566.0</td>\n",
       "      <td>14897.0</td>\n",
       "      <td>15315.0</td>\n",
       "    </tr>\n",
       "    <tr>\n",
       "      <th>Arkansas</th>\n",
       "      <td>NaN</td>\n",
       "      <td>NaN</td>\n",
       "      <td>NaN</td>\n",
       "      <td>NaN</td>\n",
       "      <td>NaN</td>\n",
       "      <td>NaN</td>\n",
       "      <td>NaN</td>\n",
       "      <td>NaN</td>\n",
       "      <td>NaN</td>\n",
       "      <td>NaN</td>\n",
       "      <td>...</td>\n",
       "      <td>4164.0</td>\n",
       "      <td>4236.0</td>\n",
       "      <td>4366.0</td>\n",
       "      <td>4463.0</td>\n",
       "      <td>4578.0</td>\n",
       "      <td>4759.0</td>\n",
       "      <td>4813.0</td>\n",
       "      <td>4923.0</td>\n",
       "      <td>5003.0</td>\n",
       "      <td>5458.0</td>\n",
       "    </tr>\n",
       "    <tr>\n",
       "      <th>California</th>\n",
       "      <td>NaN</td>\n",
       "      <td>NaN</td>\n",
       "      <td>NaN</td>\n",
       "      <td>NaN</td>\n",
       "      <td>1.0</td>\n",
       "      <td>2.0</td>\n",
       "      <td>2.0</td>\n",
       "      <td>2.0</td>\n",
       "      <td>2.0</td>\n",
       "      <td>2.0</td>\n",
       "      <td>...</td>\n",
       "      <td>71150.0</td>\n",
       "      <td>73218.0</td>\n",
       "      <td>74947.0</td>\n",
       "      <td>77015.0</td>\n",
       "      <td>78933.0</td>\n",
       "      <td>80366.0</td>\n",
       "      <td>81943.0</td>\n",
       "      <td>83981.0</td>\n",
       "      <td>86125.0</td>\n",
       "      <td>88488.0</td>\n",
       "    </tr>\n",
       "  </tbody>\n",
       "</table>\n",
       "<p>5 rows × 122 columns</p>\n",
       "</div>"
      ],
      "text/plain": [
       "date        2020-01-21  2020-01-22  2020-01-23  2020-01-24  2020-01-25  \\\n",
       "state                                                                    \n",
       "Alabama            NaN         NaN         NaN         NaN         NaN   \n",
       "Alaska             NaN         NaN         NaN         NaN         NaN   \n",
       "Arizona            NaN         NaN         NaN         NaN         NaN   \n",
       "Arkansas           NaN         NaN         NaN         NaN         NaN   \n",
       "California         NaN         NaN         NaN         NaN         1.0   \n",
       "\n",
       "date        2020-01-26  2020-01-27  2020-01-28  2020-01-29  2020-01-30  ...  \\\n",
       "state                                                                   ...   \n",
       "Alabama            NaN         NaN         NaN         NaN         NaN  ...   \n",
       "Alaska             NaN         NaN         NaN         NaN         NaN  ...   \n",
       "Arizona            1.0         1.0         1.0         1.0         1.0  ...   \n",
       "Arkansas           NaN         NaN         NaN         NaN         NaN  ...   \n",
       "California         2.0         2.0         2.0         2.0         2.0  ...   \n",
       "\n",
       "date        2020-05-12  2020-05-13  2020-05-14  2020-05-15  2020-05-16  \\\n",
       "state                                                                    \n",
       "Alabama        10464.0     10700.0     11101.0     11373.0     11674.0   \n",
       "Alaska           383.0       383.0       387.0       388.0       392.0   \n",
       "Arizona        11736.0     12176.0     12674.0     13169.0     13631.0   \n",
       "Arkansas        4164.0      4236.0      4366.0      4463.0      4578.0   \n",
       "California     71150.0     73218.0     74947.0     77015.0     78933.0   \n",
       "\n",
       "date        2020-05-17  2020-05-18  2020-05-19  2020-05-20  2020-05-21  \n",
       "state                                                                   \n",
       "Alabama        11771.0     12086.0     12376.0     13052.0     13414.0  \n",
       "Alaska           396.0       399.0       399.0       402.0       402.0  \n",
       "Arizona        13937.0     14170.0     14566.0     14897.0     15315.0  \n",
       "Arkansas        4759.0      4813.0      4923.0      5003.0      5458.0  \n",
       "California     80366.0     81943.0     83981.0     86125.0     88488.0  \n",
       "\n",
       "[5 rows x 122 columns]"
      ]
     },
     "execution_count": 33,
     "metadata": {},
     "output_type": "execute_result"
    }
   ],
   "source": [
    "#Create dataframe for 50 states\n",
    "states_df = pd.read_csv(\"https://raw.githubusercontent.com/nytimes/covid-19-data/master/us-states.csv\")\n",
    "states50 = states_df.state.unique() #This is for all 50 states.\n",
    "states_df = states_df[states_df[\"state\"].isin(states50)]\n",
    "states_df\n",
    "\n",
    "#Restructure data\n",
    "states_df = states_df.pivot(index='date', columns='state', values ='cases')\n",
    "states_df\n",
    "\n",
    "#Transpose data for time lapse.\n",
    "states_df = states_df.T\n",
    "states_df.head()\n",
    "\n"
   ]
  },
  {
   "cell_type": "code",
   "execution_count": 34,
   "metadata": {},
   "outputs": [
    {
     "data": {
      "text/plain": [
       "Index(['2020-01-21', '2020-01-22', '2020-01-23', '2020-01-24', '2020-01-25',\n",
       "       '2020-01-26', '2020-01-27', '2020-01-28', '2020-01-29', '2020-01-30',\n",
       "       ...\n",
       "       '2020-05-12', '2020-05-13', '2020-05-14', '2020-05-15', '2020-05-16',\n",
       "       '2020-05-17', '2020-05-18', '2020-05-19', '2020-05-20', '2020-05-21'],\n",
       "      dtype='object', name='date', length=122)"
      ]
     },
     "execution_count": 34,
     "metadata": {},
     "output_type": "execute_result"
    }
   ],
   "source": [
    "#Extract all the columns using the .keys() function.\n",
    "cols = states_df.keys()\n",
    "cols"
   ]
  },
  {
   "cell_type": "markdown",
   "metadata": {},
   "source": [
    "## Bar Graph Time Series of COVID-19 Cases & Deaths across the United States"
   ]
  },
  {
   "cell_type": "code",
   "execution_count": 35,
   "metadata": {},
   "outputs": [
    {
     "data": {
      "image/png": "[encoded data removed]",
      "text/plain": [
       "<Figure size 432x288 with 1 Axes>"
      ]
     },
     "metadata": {},
     "output_type": "display_data"
    }
   ],
   "source": [
    "df = pd.read_csv(\"https://raw.githubusercontent.com/nytimes/covid-19-data/master/us.csv\", parse_dates = ['date'])\n",
    "#We use the parse_dates parameter to convince pandas to turn things into real datetime TYPES.\n",
    "\n",
    "\n",
    "#df_cases = df.drop('deaths', 1) #where 1 is the axis number (0 for rows and 1 for columns.)\n",
    "\n",
    "df_cases = df.loc[:,['date', 'cases']] #the : means \"select all rows\"\n",
    "\n",
    "fig = plt.figure()\n",
    "ax = fig.add_axes([0,0,2,2]) #[starting point on x, starting point on y, length, width]\n",
    "dates = df_cases['date']\n",
    "numCases = df_cases['cases']\n",
    "plt.plot(dates, numCases)\n",
    "ax.bar(dates,numCases)\n",
    "plt.title(\"Cases of COVID-19 in the United States\")\n",
    "plt.xlabel(\"Date\")\n",
    "plt.ylabel(\"Cases\")\n",
    "plt.show()\n"
   ]
  },
  {
   "cell_type": "code",
   "execution_count": 36,
   "metadata": {},
   "outputs": [
    {
     "data": {
      "image/png": "[encoded data removed]",
      "text/plain": [
       "<Figure size 432x288 with 1 Axes>"
      ]
     },
     "metadata": {},
     "output_type": "display_data"
    }
   ],
   "source": [
    "df_deaths = df.loc[:,['date', 'deaths']]\n",
    "fig = plt.figure()\n",
    "ax = fig.add_axes([0,0,2,2]) #[starting point on x, starting point on y, length, width]\n",
    "dates = df_deaths['date']\n",
    "numDeaths = df_deaths['deaths']\n",
    "plt.plot(dates, numDeaths)\n",
    "ax.bar(dates,numDeaths)\n",
    "plt.title(\"Deaths Caused By COVID-19 in the United States\")\n",
    "plt.xlabel(\"Date\")\n",
    "plt.ylabel(\"Death Toll\")\n",
    "plt.show()"
   ]
  },
  {
   "cell_type": "markdown",
   "metadata": {},
   "source": [
    "## Scatterplot of COVID-19 Cases Across the World Map"
   ]
  },
  {
   "cell_type": "code",
   "execution_count": 40,
   "metadata": {},
   "outputs": [
    {
     "data": {
      "application/vnd.plotly.v1+json": {
       "config": {
        "plotlyServerURL": "https://plot.ly"
       },
       "data": [
        {
         "lat": [
          33,
          41.1533,
          28.0339,
          42.5063,
          -11.2027,
          17.0608,
          -38.4161,
          40.0691,
          -35.4735,
          -33.8688,
          -12.4634,
          -28.0167,
          -34.9285,
          -41.4545,
          -37.8136,
          -31.9505,
          47.5162,
          40.1431,
          25.0343,
          26.0275,
          23.685,
          13.1939,
          53.7098,
          50.8333,
          9.3077,
          27.5142,
          -16.2902,
          43.9159,
          -14.235,
          4.5353,
          42.7339,
          12.2383,
          16.5388,
          11.55,
          3.8480000000000003,
          53.9333,
          49.2827,
          37.6489,
          53.7609,
          46.5653,
          53.1355,
          44.681999999999995,
          51.2538,
          46.5107,
          52.9399,
          52.9399,
          6.6111,
          15.4542,
          -35.6751,
          31.8257,
          40.1824,
          30.0572,
          26.0789,
          37.8099,
          23.3417,
          23.8298,
          26.8154,
          19.1959,
          39.549,
          47.861999999999995,
          33.882,
          22.3,
          30.9756,
          27.6104,
          44.0935,
          32.9711,
          27.614,
          43.6661,
          41.2956,
          22.1667,
          37.2692,
          35.7452,
          35.1917,
          36.3427,
          31.201999999999998,
          37.5777,
          30.6171,
          39.3054,
          31.6927,
          41.1129,
          24.974,
          29.1832,
          4.5709,
          -4.0383,
          -4.0383,
          9.7489,
          7.54,
          45.1,
          0,
          22,
          35.1264,
          49.8175,
          61.8926,
          71.7069,
          56.2639,
          11.8251,
          18.7357,
          -1.8312,
          26,
          13.7942,
          1.5,
          15.1794,
          58.5953,
          -26.5225,
          9.145,
          -17.7134,
          64,
          3.9339,
          -17.6797,
          16.25,
          -12.8275,
          -20.9043,
          -21.1351,
          17.9,
          18.0708,
          14.6415,
          46.2276,
          -0.8037,
          13.4432,
          42.3154,
          51,
          7.9465,
          39.0742,
          15.7835,
          9.9456,
          5,
          18.9712,
          41.9029,
          15.2,
          47.1625,
          64.9631,
          21,
          -0.7893,
          32,
          33,
          53.1424,
          31,
          43,
          18.1096,
          36,
          31.24,
          48.0196,
          -0.0236,
          36,
          29.5,
          41.2044,
          56.8796,
          33.8547,
          6.4281,
          47.14,
          55.1694,
          49.8153,
          -18.7669,
          2.5,
          3.2028,
          35.9375,
          21.0079,
          -20.2,
          23.6345,
          47.4116,
          43.7333,
          46.8625,
          42.5,
          31.7917,
          -22.9576,
          28.1667,
          12.5186,
          12.1696,
          18.0425,
          52.1326,
          -40.9006,
          12.8654,
          17.6078,
          9.082,
          41.6086,
          60.472,
          21,
          30.3753,
          8.538,
          -6.315,
          -23.4425,
          -9.19,
          13,
          51.9194,
          39.3999,
          25.3548,
          45.9432,
          60,
          -1.9403,
          13.9094,
          12.9843,
          43.9424,
          24,
          14.4974,
          44.0165,
          -4.6796,
          1.2833,
          48.669,
          46.1512,
          5.1521,
          -30.5595,
          40,
          7,
          12.8628,
          3.9193,
          63,
          46.8182,
          23.7,
          -6.369,
          15,
          8.6195,
          10.6918,
          34,
          38.9637,
          1,
          48.3794,
          24,
          32.3078,
          19.3133,
          49.3723,
          36.1408,
          54.2361,
          16.7425,
          55.3781,
          -32.5228,
          37.0902,
          41.3775,
          6.4238,
          16,
          -15.4167,
          -20,
          0,
          15.415,
          12.1165,
          -18.665695,
          34.802075,
          -8.874217,
          13.1939,
          19.856270000000002,
          26.3351,
          31.9522,
          11.8037,
          17.570692,
          17.357822,
          64.8255,
          64.2823,
          42.602636,
          21.9162,
          18.2206,
          18.4207,
          21.69400000000001,
          0,
          -22.3285,
          -3.3731,
          8.460555000000001,
          12.1784,
          -13.254307999999998,
          -51.7963,
          46.8852,
          6.8770000000000024,
          24.2155,
          0.18636,
          15.552726999999999,
          -11.6455,
          38.861034000000004,
          -29.609988
         ],
         "lon": [
          65,
          20.1683,
          1.6596,
          1.5218,
          17.8739,
          -61.7964,
          -63.6167,
          45.0382,
          149.0124,
          151.2093,
          130.8456,
          153.4,
          138.6007,
          145.9707,
          144.9631,
          115.8605,
          14.5501,
          47.5769,
          -77.3963,
          50.55,
          90.3563,
          -59.5432,
          27.9534,
          4,
          2.3158,
          90.4336,
          -63.5887,
          17.6791,
          -51.9253,
          114.7277,
          25.4858,
          -1.5616,
          -23.0418,
          104.9167,
          11.5021,
          -116.5765,
          -123.1207,
          -122.6655,
          -98.8139,
          -66.4619,
          -57.6604,
          -63.7443,
          -85.3232,
          -63.4168,
          -73.5491,
          -106.4509,
          20.9394,
          18.7322,
          -71.543,
          117.2264,
          116.4142,
          107.874,
          117.9874,
          101.0583,
          113.4244,
          108.7881,
          106.8748,
          109.7453,
          116.1306,
          127.7615,
          113.61399999999999,
          114.2,
          112.2707,
          111.7088,
          113.9448,
          119.455,
          115.7221,
          126.1923,
          122.6085,
          113.55,
          106.1655,
          95.9956,
          108.8701,
          118.1498,
          121.4491,
          112.2922,
          102.7103,
          117.323,
          88.0924,
          85.2401,
          101.48700000000001,
          120.0934,
          -74.2973,
          21.7587,
          21.7587,
          -83.7534,
          -5.5471,
          15.2,
          0,
          -80,
          33.4299,
          15.472999999999999,
          -6.9118,
          -42.6043,
          9.5018,
          42.5903,
          -70.1627,
          -78.1834,
          30,
          -88.8965,
          10,
          39.7823,
          25.0136,
          31.4659,
          40.4897,
          178.065,
          26,
          -53.1258,
          149.4068,
          -61.5833,
          45.1662,
          165.618,
          55.2471,
          -62.8333,
          -63.0501,
          -61.0242,
          2.2137,
          11.6094,
          -15.3101,
          43.3569,
          9,
          -1.0232,
          21.8243,
          -90.2308,
          -9.6966,
          -58.75,
          -72.2852,
          12.4534,
          -86.2419,
          19.5033,
          -19.0208,
          78,
          113.9213,
          53,
          44,
          -7.6921,
          35,
          12,
          -77.2975,
          138,
          36.51,
          66.9237,
          37.9062,
          128,
          47.75,
          74.7661,
          24.6032,
          35.8623,
          -9.4295,
          9.55,
          23.8813,
          6.1296,
          46.8691,
          112.5,
          73.2207,
          14.3754,
          10.9408,
          57.5,
          -102.5528,
          28.3699,
          7.4167,
          103.8467,
          19.3,
          -7.0926,
          18.4904,
          84.25,
          -70.0358,
          -68.99,
          -63.0548,
          5.2913,
          174.886,
          -85.2072,
          8.0817,
          8.6753,
          21.7453,
          8.4689,
          57,
          69.3451,
          -80.7821,
          143.9555,
          -58.4438,
          -75.0152,
          122,
          19.1451,
          -8.2245,
          51.1839,
          24.9668,
          90,
          29.8739,
          -60.9789,
          -61.2872,
          12.4578,
          45,
          -14.4524,
          21.0059,
          55.492,
          103.8333,
          19.699,
          14.9955,
          46.1996,
          22.9375,
          -4,
          81,
          30.2176,
          -56.0278,
          16,
          8.2275,
          121,
          34.8888,
          101,
          0.8248,
          -61.2225,
          9,
          35.2433,
          32,
          31.1656,
          54,
          -64.7505,
          -81.2546,
          -2.3644,
          -5.3536,
          -4.5481,
          -62.1874,
          -3.4360000000000004,
          -55.7658,
          -95.7129,
          64.5853,
          -66.5897,
          108,
          28.2833,
          30,
          0,
          -61.371,
          -61.678999999999995,
          35.529562,
          38.99681500000001,
          125.727539,
          -59.5432,
          102.495496,
          17.228331,
          35.2332,
          -15.1804,
          -3.996166000000001,
          -62.782998,
          -124.8457,
          -135,
          20.902977,
          95.956,
          -63.0686,
          -64.64,
          -71.7979,
          0,
          24.6849,
          29.9189,
          -11.779889,
          -68.2385,
          34.301525,
          -59.5236,
          -56.3159,
          31.307,
          -12.8858,
          6.613081,
          48.516388,
          43.3333,
          71.276093,
          28.233608
         ],
         "marker": {
          "autocolorscale": true,
          "cmax": 1528568,
          "cmin": 0,
          "color": [
           7653,
           949,
           7377,
           761,
           52,
           25,
           8809,
           5041,
           107,
           3081,
           29,
           1058,
           439,
           228,
           1573,
           557,
           16321,
           3518,
           96,
           7532,
           25121,
           90,
           31508,
           55791,
           130,
           21,
           4481,
           2321,
           271885,
           141,
           2259,
           796,
           335,
           122,
           3529,
           6716,
           2446,
           13,
           290,
           120,
           260,
           1044,
           24755,
           27,
           44206,
           599,
           366,
           545,
           49579,
           991,
           593,
           579,
           356,
           139,
           1590,
           254,
           147,
           169,
           328,
           945,
           1276,
           1055,
           68135,
           1019,
           216,
           653,
           937,
           151,
           149,
           45,
           75,
           18,
           308,
           788,
           666,
           198,
           561,
           192,
           1,
           76,
           185,
           1268,
           16935,
           420,
           1629,
           882,
           2153,
           2232,
           712,
           1887,
           918,
           8647,
           187,
           11,
           11044,
           1618,
           13223,
           34151,
           13484,
           1498,
           825,
           39,
           1791,
           208,
           365,
           18,
           6399,
           218,
           60,
           155,
           1370,
           18,
           446,
           6,
           39,
           192,
           178428,
           1502,
           24,
           707,
           177778,
           6096,
           2840,
           2133,
           2863,
           125,
           533,
           12,
           2955,
           3556,
           1802,
           106475,
           18496,
           124603,
           3611,
           24251,
           16659,
           226699,
           520,
           16367,
           649,
           6751,
           963,
           11110,
           16764,
           1243,
           1012,
           954,
           233,
           82,
           1562,
           3958,
           326,
           6978,
           1143,
           569,
           131,
           332,
           54346,
           6340,
           97,
           140,
           324,
           7023,
           16,
           402,
           101,
           16,
           77,
           44249,
           1503,
           254,
           914,
           6401,
           1839,
           8267,
           5671,
           43966,
           9867,
           8,
           829,
           99483,
           12942,
           19268,
           29432,
           35606,
           17191,
           299941,
           308,
           18,
           17,
           655,
           59854,
           2617,
           10733,
           11,
           28794,
           1495,
           1467,
           1502,
           17200,
           232037,
           1027,
           2728,
           11,
           30799,
           30618,
           440,
           509,
           3033,
           338,
           116,
           1044,
           151615,
           260,
           18876,
           25063,
           125,
           111,
           555,
           147,
           335,
           11,
           248818,
           738,
           1528568,
           2855,
           749,
           324,
           772,
           46,
           1,
           16,
           22,
           146,
           58,
           24,
           18,
           19,
           68,
           391,
           1038,
           901,
           15,
           5,
           11,
           989,
           193,
           3,
           8,
           12,
           9,
           25,
           42,
           534,
           6,
           70,
           13,
           1,
           290,
           6,
           251,
           167,
           11,
           1936,
           1
          ],
          "colorbar": {
           "title": {
            "text": "COVID 19 Reported Cases"
           }
          },
          "line": {
           "color": "rgba(102, 102, 102)",
           "width": 1
          },
          "opacity": 0.8,
          "reversescale": true,
          "size": 12,
          "symbol": "circle"
         },
         "mode": "markers",
         "text": [
          "Afghanistan 7653",
          "Albania 949",
          "Algeria 7377",
          "Andorra 761",
          "Angola 52",
          "Antigua and Barbuda 25",
          "Argentina 8809",
          "Armenia 5041",
          "Australia 107",
          "Australia 3081",
          "Australia 29",
          "Australia 1058",
          "Australia 439",
          "Australia 228",
          "Australia 1573",
          "Australia 557",
          "Austria 16321",
          "Azerbaijan 3518",
          "Bahamas 96",
          "Bahrain 7532",
          "Bangladesh 25121",
          "Barbados 90",
          "Belarus 31508",
          "Belgium 55791",
          "Benin 130",
          "Bhutan 21",
          "Bolivia 4481",
          "Bosnia and Herzegovina 2321",
          "Brazil 271885",
          "Brunei 141",
          "Bulgaria 2259",
          "Burkina Faso 796",
          "Cabo Verde 335",
          "Cambodia 122",
          "Cameroon 3529",
          "Canada 6716",
          "Canada 2446",
          "Canada 13",
          "Canada 290",
          "Canada 120",
          "Canada 260",
          "Canada 1044",
          "Canada 24755",
          "Canada 27",
          "Canada 44206",
          "Canada 599",
          "Central African Republic 366",
          "Chad 545",
          "Chile 49579",
          "China 991",
          "China 593",
          "China 579",
          "China 356",
          "China 139",
          "China 1590",
          "China 254",
          "China 147",
          "China 169",
          "China 328",
          "China 945",
          "China 1276",
          "China 1055",
          "China 68135",
          "China 1019",
          "China 216",
          "China 653",
          "China 937",
          "China 151",
          "China 149",
          "China 45",
          "China 75",
          "China 18",
          "China 308",
          "China 788",
          "China 666",
          "China 198",
          "China 561",
          "China 192",
          "China 1",
          "China 76",
          "China 185",
          "China 1268",
          "Colombia 16935",
          "Congo (Brazzaville) 420",
          "Congo (Kinshasa) 1629",
          "Costa Rica 882",
          "Cote d'Ivoire 2153",
          "Croatia 2232",
          "Diamond Princess 712",
          "Cuba 1887",
          "Cyprus 918",
          "Czechia 8647",
          "Denmark 187",
          "Denmark 11",
          "Denmark 11044",
          "Djibouti 1618",
          "Dominican Republic 13223",
          "Ecuador 34151",
          "Egypt 13484",
          "El Salvador 1498",
          "Equatorial Guinea 825",
          "Eritrea 39",
          "Estonia 1791",
          "Eswatini 208",
          "Ethiopia 365",
          "Fiji 18",
          "Finland 6399",
          "France 218",
          "France 60",
          "France 155",
          "France 1370",
          "France 18",
          "France 446",
          "France 6",
          "France 39",
          "France 192",
          "France 178428",
          "Gabon 1502",
          "Gambia 24",
          "Georgia 707",
          "Germany 177778",
          "Ghana 6096",
          "Greece 2840",
          "Guatemala 2133",
          "Guinea 2863",
          "Guyana 125",
          "Haiti 533",
          "Holy See 12",
          "Honduras 2955",
          "Hungary 3556",
          "Iceland 1802",
          "India 106475",
          "Indonesia 18496",
          "Iran 124603",
          "Iraq 3611",
          "Ireland 24251",
          "Israel 16659",
          "Italy 226699",
          "Jamaica 520",
          "Japan 16367",
          "Jordan 649",
          "Kazakhstan 6751",
          "Kenya 963",
          "Korea, South 11110",
          "Kuwait 16764",
          "Kyrgyzstan 1243",
          "Latvia 1012",
          "Lebanon 954",
          "Liberia 233",
          "Liechtenstein 82",
          "Lithuania 1562",
          "Luxembourg 3958",
          "Madagascar 326",
          "Malaysia 6978",
          "Maldives 1143",
          "Malta 569",
          "Mauritania 131",
          "Mauritius 332",
          "Mexico 54346",
          "Moldova 6340",
          "Monaco 97",
          "Mongolia 140",
          "Montenegro 324",
          "Morocco 7023",
          "Namibia 16",
          "Nepal 402",
          "Netherlands 101",
          "Netherlands 16",
          "Netherlands 77",
          "Netherlands 44249",
          "New Zealand 1503",
          "Nicaragua 254",
          "Niger 914",
          "Nigeria 6401",
          "North Macedonia 1839",
          "Norway 8267",
          "Oman 5671",
          "Pakistan 43966",
          "Panama 9867",
          "Papua New Guinea 8",
          "Paraguay 829",
          "Peru 99483",
          "Philippines 12942",
          "Poland 19268",
          "Portugal 29432",
          "Qatar 35606",
          "Romania 17191",
          "Russia 299941",
          "Rwanda 308",
          "Saint Lucia 18",
          "Saint Vincent and the Grenadines 17",
          "San Marino 655",
          "Saudi Arabia 59854",
          "Senegal 2617",
          "Serbia 10733",
          "Seychelles 11",
          "Singapore 28794",
          "Slovakia 1495",
          "Slovenia 1467",
          "Somalia 1502",
          "South Africa 17200",
          "Spain 232037",
          "Sri Lanka 1027",
          "Sudan 2728",
          "Suriname 11",
          "Sweden 30799",
          "Switzerland 30618",
          "Taiwan* 440",
          "Tanzania 509",
          "Thailand 3033",
          "Togo 338",
          "Trinidad and Tobago 116",
          "Tunisia 1044",
          "Turkey 151615",
          "Uganda 260",
          "Ukraine 18876",
          "United Arab Emirates 25063",
          "United Kingdom 125",
          "United Kingdom 111",
          "United Kingdom 555",
          "United Kingdom 147",
          "United Kingdom 335",
          "United Kingdom 11",
          "United Kingdom 248818",
          "Uruguay 738",
          "US 1528568",
          "Uzbekistan 2855",
          "Venezuela 749",
          "Vietnam 324",
          "Zambia 772",
          "Zimbabwe 46",
          "Canada 1",
          "Dominica 16",
          "Grenada 22",
          "Mozambique 146",
          "Syria 58",
          "Timor-Leste 24",
          "Belize 18",
          "Laos 19",
          "Libya 68",
          "West Bank and Gaza 391",
          "Guinea-Bissau 1038",
          "Mali 901",
          "Saint Kitts and Nevis 15",
          "Canada 5",
          "Canada 11",
          "Kosovo 989",
          "Burma 193",
          "United Kingdom 3",
          "United Kingdom 8",
          "United Kingdom 12",
          "MS Zaandam 9",
          "Botswana 25",
          "Burundi 42",
          "Sierra Leone 534",
          "Netherlands 6",
          "Malawi 70",
          "United Kingdom 13",
          "France 1",
          "South Sudan 290",
          "Western Sahara 6",
          "Sao Tome and Principe 251",
          "Yemen 167",
          "Comoros 11",
          "Tajikistan 1936",
          "Lesotho 1"
         ],
         "type": "scattergeo"
        }
       ],
       "layout": {
        "geo": {
         "scope": "world",
         "showland": true
        },
        "template": {
         "data": {
          "bar": [
           {
            "error_x": {
             "color": "#2a3f5f"
            },
            "error_y": {
             "color": "#2a3f5f"
            },
            "marker": {
             "line": {
              "color": "#E5ECF6",
              "width": 0.5
             }
            },
            "type": "bar"
           }
          ],
          "barpolar": [
           {
            "marker": {
             "line": {
              "color": "#E5ECF6",
              "width": 0.5
             }
            },
            "type": "barpolar"
           }
          ],
          "carpet": [
           {
            "aaxis": {
             "endlinecolor": "#2a3f5f",
             "gridcolor": "white",
             "linecolor": "white",
             "minorgridcolor": "white",
             "startlinecolor": "#2a3f5f"
            },
            "baxis": {
             "endlinecolor": "#2a3f5f",
             "gridcolor": "white",
             "linecolor": "white",
             "minorgridcolor": "white",
             "startlinecolor": "#2a3f5f"
            },
            "type": "carpet"
           }
          ],
          "choropleth": [
           {
            "colorbar": {
             "outlinewidth": 0,
             "ticks": ""
            },
            "type": "choropleth"
           }
          ],
          "contour": [
           {
            "colorbar": {
             "outlinewidth": 0,
             "ticks": ""
            },
            "colorscale": [
             [
              0,
              "#0d0887"
             ],
             [
              0.1111111111111111,
              "#46039f"
             ],
             [
              0.2222222222222222,
              "#7201a8"
             ],
             [
              0.3333333333333333,
              "#9c179e"
             ],
             [
              0.4444444444444444,
              "#bd3786"
             ],
             [
              0.5555555555555556,
              "#d8576b"
             ],
             [
              0.6666666666666666,
              "#ed7953"
             ],
             [
              0.7777777777777778,
              "#fb9f3a"
             ],
             [
              0.8888888888888888,
              "#fdca26"
             ],
             [
              1,
              "#f0f921"
             ]
            ],
            "type": "contour"
           }
          ],
          "contourcarpet": [
           {
            "colorbar": {
             "outlinewidth": 0,
             "ticks": ""
            },
            "type": "contourcarpet"
           }
          ],
          "heatmap": [
           {
            "colorbar": {
             "outlinewidth": 0,
             "ticks": ""
            },
            "colorscale": [
             [
              0,
              "#0d0887"
             ],
             [
              0.1111111111111111,
              "#46039f"
             ],
             [
              0.2222222222222222,
              "#7201a8"
             ],
             [
              0.3333333333333333,
              "#9c179e"
             ],
             [
              0.4444444444444444,
              "#bd3786"
             ],
             [
              0.5555555555555556,
              "#d8576b"
             ],
             [
              0.6666666666666666,
              "#ed7953"
             ],
             [
              0.7777777777777778,
              "#fb9f3a"
             ],
             [
              0.8888888888888888,
              "#fdca26"
             ],
             [
              1,
              "#f0f921"
             ]
            ],
            "type": "heatmap"
           }
          ],
          "heatmapgl": [
           {
            "colorbar": {
             "outlinewidth": 0,
             "ticks": ""
            },
            "colorscale": [
             [
              0,
              "#0d0887"
             ],
             [
              0.1111111111111111,
              "#46039f"
             ],
             [
              0.2222222222222222,
              "#7201a8"
             ],
             [
              0.3333333333333333,
              "#9c179e"
             ],
             [
              0.4444444444444444,
              "#bd3786"
             ],
             [
              0.5555555555555556,
              "#d8576b"
             ],
             [
              0.6666666666666666,
              "#ed7953"
             ],
             [
              0.7777777777777778,
              "#fb9f3a"
             ],
             [
              0.8888888888888888,
              "#fdca26"
             ],
             [
              1,
              "#f0f921"
             ]
            ],
            "type": "heatmapgl"
           }
          ],
          "histogram": [
           {
            "marker": {
             "colorbar": {
              "outlinewidth": 0,
              "ticks": ""
             }
            },
            "type": "histogram"
           }
          ],
          "histogram2d": [
           {
            "colorbar": {
             "outlinewidth": 0,
             "ticks": ""
            },
            "colorscale": [
             [
              0,
              "#0d0887"
             ],
             [
              0.1111111111111111,
              "#46039f"
             ],
             [
              0.2222222222222222,
              "#7201a8"
             ],
             [
              0.3333333333333333,
              "#9c179e"
             ],
             [
              0.4444444444444444,
              "#bd3786"
             ],
             [
              0.5555555555555556,
              "#d8576b"
             ],
             [
              0.6666666666666666,
              "#ed7953"
             ],
             [
              0.7777777777777778,
              "#fb9f3a"
             ],
             [
              0.8888888888888888,
              "#fdca26"
             ],
             [
              1,
              "#f0f921"
             ]
            ],
            "type": "histogram2d"
           }
          ],
          "histogram2dcontour": [
           {
            "colorbar": {
             "outlinewidth": 0,
             "ticks": ""
            },
            "colorscale": [
             [
              0,
              "#0d0887"
             ],
             [
              0.1111111111111111,
              "#46039f"
             ],
             [
              0.2222222222222222,
              "#7201a8"
             ],
             [
              0.3333333333333333,
              "#9c179e"
             ],
             [
              0.4444444444444444,
              "#bd3786"
             ],
             [
              0.5555555555555556,
              "#d8576b"
             ],
             [
              0.6666666666666666,
              "#ed7953"
             ],
             [
              0.7777777777777778,
              "#fb9f3a"
             ],
             [
              0.8888888888888888,
              "#fdca26"
             ],
             [
              1,
              "#f0f921"
             ]
            ],
            "type": "histogram2dcontour"
           }
          ],
          "mesh3d": [
           {
            "colorbar": {
             "outlinewidth": 0,
             "ticks": ""
            },
            "type": "mesh3d"
           }
          ],
          "parcoords": [
           {
            "line": {
             "colorbar": {
              "outlinewidth": 0,
              "ticks": ""
             }
            },
            "type": "parcoords"
           }
          ],
          "pie": [
           {
            "automargin": true,
            "type": "pie"
           }
          ],
          "scatter": [
           {
            "marker": {
             "colorbar": {
              "outlinewidth": 0,
              "ticks": ""
             }
            },
            "type": "scatter"
           }
          ],
          "scatter3d": [
           {
            "line": {
             "colorbar": {
              "outlinewidth": 0,
              "ticks": ""
             }
            },
            "marker": {
             "colorbar": {
              "outlinewidth": 0,
              "ticks": ""
             }
            },
            "type": "scatter3d"
           }
          ],
          "scattercarpet": [
           {
            "marker": {
             "colorbar": {
              "outlinewidth": 0,
              "ticks": ""
             }
            },
            "type": "scattercarpet"
           }
          ],
          "scattergeo": [
           {
            "marker": {
             "colorbar": {
              "outlinewidth": 0,
              "ticks": ""
             }
            },
            "type": "scattergeo"
           }
          ],
          "scattergl": [
           {
            "marker": {
             "colorbar": {
              "outlinewidth": 0,
              "ticks": ""
             }
            },
            "type": "scattergl"
           }
          ],
          "scattermapbox": [
           {
            "marker": {
             "colorbar": {
              "outlinewidth": 0,
              "ticks": ""
             }
            },
            "type": "scattermapbox"
           }
          ],
          "scatterpolar": [
           {
            "marker": {
             "colorbar": {
              "outlinewidth": 0,
              "ticks": ""
             }
            },
            "type": "scatterpolar"
           }
          ],
          "scatterpolargl": [
           {
            "marker": {
             "colorbar": {
              "outlinewidth": 0,
              "ticks": ""
             }
            },
            "type": "scatterpolargl"
           }
          ],
          "scatterternary": [
           {
            "marker": {
             "colorbar": {
              "outlinewidth": 0,
              "ticks": ""
             }
            },
            "type": "scatterternary"
           }
          ],
          "surface": [
           {
            "colorbar": {
             "outlinewidth": 0,
             "ticks": ""
            },
            "colorscale": [
             [
              0,
              "#0d0887"
             ],
             [
              0.1111111111111111,
              "#46039f"
             ],
             [
              0.2222222222222222,
              "#7201a8"
             ],
             [
              0.3333333333333333,
              "#9c179e"
             ],
             [
              0.4444444444444444,
              "#bd3786"
             ],
             [
              0.5555555555555556,
              "#d8576b"
             ],
             [
              0.6666666666666666,
              "#ed7953"
             ],
             [
              0.7777777777777778,
              "#fb9f3a"
             ],
             [
              0.8888888888888888,
              "#fdca26"
             ],
             [
              1,
              "#f0f921"
             ]
            ],
            "type": "surface"
           }
          ],
          "table": [
           {
            "cells": {
             "fill": {
              "color": "#EBF0F8"
             },
             "line": {
              "color": "white"
             }
            },
            "header": {
             "fill": {
              "color": "#C8D4E3"
             },
             "line": {
              "color": "white"
             }
            },
            "type": "table"
           }
          ]
         },
         "layout": {
          "annotationdefaults": {
           "arrowcolor": "#2a3f5f",
           "arrowhead": 0,
           "arrowwidth": 1
          },
          "coloraxis": {
           "colorbar": {
            "outlinewidth": 0,
            "ticks": ""
           }
          },
          "colorscale": {
           "diverging": [
            [
             0,
             "#8e0152"
            ],
            [
             0.1,
             "#c51b7d"
            ],
            [
             0.2,
             "#de77ae"
            ],
            [
             0.3,
             "#f1b6da"
            ],
            [
             0.4,
             "#fde0ef"
            ],
            [
             0.5,
             "#f7f7f7"
            ],
            [
             0.6,
             "#e6f5d0"
            ],
            [
             0.7,
             "#b8e186"
            ],
            [
             0.8,
             "#7fbc41"
            ],
            [
             0.9,
             "#4d9221"
            ],
            [
             1,
             "#276419"
            ]
           ],
           "sequential": [
            [
             0,
             "#0d0887"
            ],
            [
             0.1111111111111111,
             "#46039f"
            ],
            [
             0.2222222222222222,
             "#7201a8"
            ],
            [
             0.3333333333333333,
             "#9c179e"
            ],
            [
             0.4444444444444444,
             "#bd3786"
            ],
            [
             0.5555555555555556,
             "#d8576b"
            ],
            [
             0.6666666666666666,
             "#ed7953"
            ],
            [
             0.7777777777777778,
             "#fb9f3a"
            ],
            [
             0.8888888888888888,
             "#fdca26"
            ],
            [
             1,
             "#f0f921"
            ]
           ],
           "sequentialminus": [
            [
             0,
             "#0d0887"
            ],
            [
             0.1111111111111111,
             "#46039f"
            ],
            [
             0.2222222222222222,
             "#7201a8"
            ],
            [
             0.3333333333333333,
             "#9c179e"
            ],
            [
             0.4444444444444444,
             "#bd3786"
            ],
            [
             0.5555555555555556,
             "#d8576b"
            ],
            [
             0.6666666666666666,
             "#ed7953"
            ],
            [
             0.7777777777777778,
             "#fb9f3a"
            ],
            [
             0.8888888888888888,
             "#fdca26"
            ],
            [
             1,
             "#f0f921"
            ]
           ]
          },
          "colorway": [
           "#636efa",
           "#EF553B",
           "#00cc96",
           "#ab63fa",
           "#FFA15A",
           "#19d3f3",
           "#FF6692",
           "#B6E880",
           "#FF97FF",
           "#FECB52"
          ],
          "font": {
           "color": "#2a3f5f"
          },
          "geo": {
           "bgcolor": "white",
           "lakecolor": "white",
           "landcolor": "#E5ECF6",
           "showlakes": true,
           "showland": true,
           "subunitcolor": "white"
          },
          "hoverlabel": {
           "align": "left"
          },
          "hovermode": "closest",
          "mapbox": {
           "style": "light"
          },
          "paper_bgcolor": "white",
          "plot_bgcolor": "#E5ECF6",
          "polar": {
           "angularaxis": {
            "gridcolor": "white",
            "linecolor": "white",
            "ticks": ""
           },
           "bgcolor": "#E5ECF6",
           "radialaxis": {
            "gridcolor": "white",
            "linecolor": "white",
            "ticks": ""
           }
          },
          "scene": {
           "xaxis": {
            "backgroundcolor": "#E5ECF6",
            "gridcolor": "white",
            "gridwidth": 2,
            "linecolor": "white",
            "showbackground": true,
            "ticks": "",
            "zerolinecolor": "white"
           },
           "yaxis": {
            "backgroundcolor": "#E5ECF6",
            "gridcolor": "white",
            "gridwidth": 2,
            "linecolor": "white",
            "showbackground": true,
            "ticks": "",
            "zerolinecolor": "white"
           },
           "zaxis": {
            "backgroundcolor": "#E5ECF6",
            "gridcolor": "white",
            "gridwidth": 2,
            "linecolor": "white",
            "showbackground": true,
            "ticks": "",
            "zerolinecolor": "white"
           }
          },
          "shapedefaults": {
           "line": {
            "color": "#2a3f5f"
           }
          },
          "ternary": {
           "aaxis": {
            "gridcolor": "white",
            "linecolor": "white",
            "ticks": ""
           },
           "baxis": {
            "gridcolor": "white",
            "linecolor": "white",
            "ticks": ""
           },
           "bgcolor": "#E5ECF6",
           "caxis": {
            "gridcolor": "white",
            "linecolor": "white",
            "ticks": ""
           }
          },
          "title": {
           "x": 0.05
          },
          "xaxis": {
           "automargin": true,
           "gridcolor": "white",
           "linecolor": "white",
           "ticks": "",
           "title": {
            "standoff": 15
           },
           "zerolinecolor": "white",
           "zerolinewidth": 2
          },
          "yaxis": {
           "automargin": true,
           "gridcolor": "white",
           "linecolor": "white",
           "ticks": "",
           "title": {
            "standoff": 15
           },
           "zerolinecolor": "white",
           "zerolinewidth": 2
          }
         }
        },
        "title": {
         "text": "COVID-19 Confirmed Cases Around the World"
        }
       }
      },
      "text/html": [
       "<div>\n",
       "        \n",
       "        \n",
       "            <div id=\"9ed91a64-c23c-4dfb-8a89-ff5a85bf6571\" class=\"plotly-graph-div\" style=\"height:525px; width:100%;\"></div>\n",
       "            <script type=\"text/javascript\">\n",
       "                require([\"plotly\"], function(Plotly) {\n",
       "                    window.PLOTLYENV=window.PLOTLYENV || {};\n",
       "                    \n",
       "                if (document.getElementById(\"9ed91a64-c23c-4dfb-8a89-ff5a85bf6571\")) {\n",
       "                    Plotly.newPlot(\n",
       "                        '9ed91a64-c23c-4dfb-8a89-ff5a85bf6571',\n",
       "                        [{\"lat\": [33.0, 41.1533, 28.0339, 42.5063, -11.2027, 17.0608, -38.4161, 40.0691, -35.4735, -33.8688, -12.4634, -28.0167, -34.9285, -41.4545, -37.8136, -31.9505, 47.5162, 40.1431, 25.0343, 26.0275, 23.685, 13.1939, 53.7098, 50.8333, 9.3077, 27.5142, -16.2902, 43.9159, -14.235, 4.5353, 42.7339, 12.2383, 16.5388, 11.55, 3.8480000000000003, 53.9333, 49.2827, 37.6489, 53.7609, 46.5653, 53.1355, 44.681999999999995, 51.2538, 46.5107, 52.9399, 52.9399, 6.6111, 15.4542, -35.6751, 31.8257, 40.1824, 30.0572, 26.0789, 37.8099, 23.3417, 23.8298, 26.8154, 19.1959, 39.549, 47.861999999999995, 33.882, 22.3, 30.9756, 27.6104, 44.0935, 32.9711, 27.614, 43.6661, 41.2956, 22.1667, 37.2692, 35.7452, 35.1917, 36.3427, 31.201999999999998, 37.5777, 30.6171, 39.3054, 31.6927, 41.1129, 24.974, 29.1832, 4.5709, -4.0383, -4.0383, 9.7489, 7.54, 45.1, 0.0, 22.0, 35.1264, 49.8175, 61.8926, 71.7069, 56.2639, 11.8251, 18.7357, -1.8312, 26.0, 13.7942, 1.5, 15.1794, 58.5953, -26.5225, 9.145, -17.7134, 64.0, 3.9339, -17.6797, 16.25, -12.8275, -20.9043, -21.1351, 17.9, 18.0708, 14.6415, 46.2276, -0.8037, 13.4432, 42.3154, 51.0, 7.9465, 39.0742, 15.7835, 9.9456, 5.0, 18.9712, 41.9029, 15.2, 47.1625, 64.9631, 21.0, -0.7893, 32.0, 33.0, 53.1424, 31.0, 43.0, 18.1096, 36.0, 31.24, 48.0196, -0.0236, 36.0, 29.5, 41.2044, 56.8796, 33.8547, 6.4281, 47.14, 55.1694, 49.8153, -18.7669, 2.5, 3.2028, 35.9375, 21.0079, -20.2, 23.6345, 47.4116, 43.7333, 46.8625, 42.5, 31.7917, -22.9576, 28.1667, 12.5186, 12.1696, 18.0425, 52.1326, -40.9006, 12.8654, 17.6078, 9.082, 41.6086, 60.472, 21.0, 30.3753, 8.538, -6.315, -23.4425, -9.19, 13.0, 51.9194, 39.3999, 25.3548, 45.9432, 60.0, -1.9403, 13.9094, 12.9843, 43.9424, 24.0, 14.4974, 44.0165, -4.6796, 1.2833, 48.669, 46.1512, 5.1521, -30.5595, 40.0, 7.0, 12.8628, 3.9193, 63.0, 46.8182, 23.7, -6.369, 15.0, 8.6195, 10.6918, 34.0, 38.9637, 1.0, 48.3794, 24.0, 32.3078, 19.3133, 49.3723, 36.1408, 54.2361, 16.7425, 55.3781, -32.5228, 37.0902, 41.3775, 6.4238, 16.0, -15.4167, -20.0, 0.0, 15.415, 12.1165, -18.665695, 34.802075, -8.874217, 13.1939, 19.856270000000002, 26.3351, 31.9522, 11.8037, 17.570692, 17.357822, 64.8255, 64.2823, 42.602636, 21.9162, 18.2206, 18.4207, 21.69400000000001, 0.0, -22.3285, -3.3731, 8.460555000000001, 12.1784, -13.254307999999998, -51.7963, 46.8852, 6.8770000000000024, 24.2155, 0.18636, 15.552726999999999, -11.6455, 38.861034000000004, -29.609988], \"lon\": [65.0, 20.1683, 1.6596, 1.5218, 17.8739, -61.7964, -63.6167, 45.0382, 149.0124, 151.2093, 130.8456, 153.4, 138.6007, 145.9707, 144.9631, 115.8605, 14.5501, 47.5769, -77.3963, 50.55, 90.3563, -59.5432, 27.9534, 4.0, 2.3158, 90.4336, -63.5887, 17.6791, -51.9253, 114.7277, 25.4858, -1.5616, -23.0418, 104.9167, 11.5021, -116.5765, -123.1207, -122.6655, -98.8139, -66.4619, -57.6604, -63.7443, -85.3232, -63.4168, -73.5491, -106.4509, 20.9394, 18.7322, -71.543, 117.2264, 116.4142, 107.874, 117.9874, 101.0583, 113.4244, 108.7881, 106.8748, 109.7453, 116.1306, 127.7615, 113.61399999999999, 114.2, 112.2707, 111.7088, 113.9448, 119.455, 115.7221, 126.1923, 122.6085, 113.55, 106.1655, 95.9956, 108.8701, 118.1498, 121.4491, 112.2922, 102.7103, 117.323, 88.0924, 85.2401, 101.48700000000001, 120.0934, -74.2973, 21.7587, 21.7587, -83.7534, -5.5471, 15.2, 0.0, -80.0, 33.4299, 15.472999999999999, -6.9118, -42.6043, 9.5018, 42.5903, -70.1627, -78.1834, 30.0, -88.8965, 10.0, 39.7823, 25.0136, 31.4659, 40.4897, 178.065, 26.0, -53.1258, 149.4068, -61.5833, 45.1662, 165.618, 55.2471, -62.8333, -63.0501, -61.0242, 2.2137, 11.6094, -15.3101, 43.3569, 9.0, -1.0232, 21.8243, -90.2308, -9.6966, -58.75, -72.2852, 12.4534, -86.2419, 19.5033, -19.0208, 78.0, 113.9213, 53.0, 44.0, -7.6921, 35.0, 12.0, -77.2975, 138.0, 36.51, 66.9237, 37.9062, 128.0, 47.75, 74.7661, 24.6032, 35.8623, -9.4295, 9.55, 23.8813, 6.1296, 46.8691, 112.5, 73.2207, 14.3754, 10.9408, 57.5, -102.5528, 28.3699, 7.4167, 103.8467, 19.3, -7.0926, 18.4904, 84.25, -70.0358, -68.99, -63.0548, 5.2913, 174.886, -85.2072, 8.0817, 8.6753, 21.7453, 8.4689, 57.0, 69.3451, -80.7821, 143.9555, -58.4438, -75.0152, 122.0, 19.1451, -8.2245, 51.1839, 24.9668, 90.0, 29.8739, -60.9789, -61.2872, 12.4578, 45.0, -14.4524, 21.0059, 55.492, 103.8333, 19.699, 14.9955, 46.1996, 22.9375, -4.0, 81.0, 30.2176, -56.0278, 16.0, 8.2275, 121.0, 34.8888, 101.0, 0.8248, -61.2225, 9.0, 35.2433, 32.0, 31.1656, 54.0, -64.7505, -81.2546, -2.3644, -5.3536, -4.5481, -62.1874, -3.4360000000000004, -55.7658, -95.7129, 64.5853, -66.5897, 108.0, 28.2833, 30.0, 0.0, -61.371, -61.678999999999995, 35.529562, 38.99681500000001, 125.727539, -59.5432, 102.495496, 17.228331, 35.2332, -15.1804, -3.996166000000001, -62.782998, -124.8457, -135.0, 20.902977, 95.956, -63.0686, -64.64, -71.7979, 0.0, 24.6849, 29.9189, -11.779889, -68.2385, 34.301525, -59.5236, -56.3159, 31.307, -12.8858, 6.613081, 48.516388, 43.3333, 71.276093, 28.233608], \"marker\": {\"autocolorscale\": true, \"cmax\": 1528568, \"cmin\": 0, \"color\": [7653, 949, 7377, 761, 52, 25, 8809, 5041, 107, 3081, 29, 1058, 439, 228, 1573, 557, 16321, 3518, 96, 7532, 25121, 90, 31508, 55791, 130, 21, 4481, 2321, 271885, 141, 2259, 796, 335, 122, 3529, 6716, 2446, 13, 290, 120, 260, 1044, 24755, 27, 44206, 599, 366, 545, 49579, 991, 593, 579, 356, 139, 1590, 254, 147, 169, 328, 945, 1276, 1055, 68135, 1019, 216, 653, 937, 151, 149, 45, 75, 18, 308, 788, 666, 198, 561, 192, 1, 76, 185, 1268, 16935, 420, 1629, 882, 2153, 2232, 712, 1887, 918, 8647, 187, 11, 11044, 1618, 13223, 34151, 13484, 1498, 825, 39, 1791, 208, 365, 18, 6399, 218, 60, 155, 1370, 18, 446, 6, 39, 192, 178428, 1502, 24, 707, 177778, 6096, 2840, 2133, 2863, 125, 533, 12, 2955, 3556, 1802, 106475, 18496, 124603, 3611, 24251, 16659, 226699, 520, 16367, 649, 6751, 963, 11110, 16764, 1243, 1012, 954, 233, 82, 1562, 3958, 326, 6978, 1143, 569, 131, 332, 54346, 6340, 97, 140, 324, 7023, 16, 402, 101, 16, 77, 44249, 1503, 254, 914, 6401, 1839, 8267, 5671, 43966, 9867, 8, 829, 99483, 12942, 19268, 29432, 35606, 17191, 299941, 308, 18, 17, 655, 59854, 2617, 10733, 11, 28794, 1495, 1467, 1502, 17200, 232037, 1027, 2728, 11, 30799, 30618, 440, 509, 3033, 338, 116, 1044, 151615, 260, 18876, 25063, 125, 111, 555, 147, 335, 11, 248818, 738, 1528568, 2855, 749, 324, 772, 46, 1, 16, 22, 146, 58, 24, 18, 19, 68, 391, 1038, 901, 15, 5, 11, 989, 193, 3, 8, 12, 9, 25, 42, 534, 6, 70, 13, 1, 290, 6, 251, 167, 11, 1936, 1], \"colorbar\": {\"title\": {\"text\": \"COVID 19 Reported Cases\"}}, \"line\": {\"color\": \"rgba(102, 102, 102)\", \"width\": 1}, \"opacity\": 0.8, \"reversescale\": true, \"size\": 12, \"symbol\": \"circle\"}, \"mode\": \"markers\", \"text\": [\"Afghanistan 7653\", \"Albania 949\", \"Algeria 7377\", \"Andorra 761\", \"Angola 52\", \"Antigua and Barbuda 25\", \"Argentina 8809\", \"Armenia 5041\", \"Australia 107\", \"Australia 3081\", \"Australia 29\", \"Australia 1058\", \"Australia 439\", \"Australia 228\", \"Australia 1573\", \"Australia 557\", \"Austria 16321\", \"Azerbaijan 3518\", \"Bahamas 96\", \"Bahrain 7532\", \"Bangladesh 25121\", \"Barbados 90\", \"Belarus 31508\", \"Belgium 55791\", \"Benin 130\", \"Bhutan 21\", \"Bolivia 4481\", \"Bosnia and Herzegovina 2321\", \"Brazil 271885\", \"Brunei 141\", \"Bulgaria 2259\", \"Burkina Faso 796\", \"Cabo Verde 335\", \"Cambodia 122\", \"Cameroon 3529\", \"Canada 6716\", \"Canada 2446\", \"Canada 13\", \"Canada 290\", \"Canada 120\", \"Canada 260\", \"Canada 1044\", \"Canada 24755\", \"Canada 27\", \"Canada 44206\", \"Canada 599\", \"Central African Republic 366\", \"Chad 545\", \"Chile 49579\", \"China 991\", \"China 593\", \"China 579\", \"China 356\", \"China 139\", \"China 1590\", \"China 254\", \"China 147\", \"China 169\", \"China 328\", \"China 945\", \"China 1276\", \"China 1055\", \"China 68135\", \"China 1019\", \"China 216\", \"China 653\", \"China 937\", \"China 151\", \"China 149\", \"China 45\", \"China 75\", \"China 18\", \"China 308\", \"China 788\", \"China 666\", \"China 198\", \"China 561\", \"China 192\", \"China 1\", \"China 76\", \"China 185\", \"China 1268\", \"Colombia 16935\", \"Congo (Brazzaville) 420\", \"Congo (Kinshasa) 1629\", \"Costa Rica 882\", \"Cote d'Ivoire 2153\", \"Croatia 2232\", \"Diamond Princess 712\", \"Cuba 1887\", \"Cyprus 918\", \"Czechia 8647\", \"Denmark 187\", \"Denmark 11\", \"Denmark 11044\", \"Djibouti 1618\", \"Dominican Republic 13223\", \"Ecuador 34151\", \"Egypt 13484\", \"El Salvador 1498\", \"Equatorial Guinea 825\", \"Eritrea 39\", \"Estonia 1791\", \"Eswatini 208\", \"Ethiopia 365\", \"Fiji 18\", \"Finland 6399\", \"France 218\", \"France 60\", \"France 155\", \"France 1370\", \"France 18\", \"France 446\", \"France 6\", \"France 39\", \"France 192\", \"France 178428\", \"Gabon 1502\", \"Gambia 24\", \"Georgia 707\", \"Germany 177778\", \"Ghana 6096\", \"Greece 2840\", \"Guatemala 2133\", \"Guinea 2863\", \"Guyana 125\", \"Haiti 533\", \"Holy See 12\", \"Honduras 2955\", \"Hungary 3556\", \"Iceland 1802\", \"India 106475\", \"Indonesia 18496\", \"Iran 124603\", \"Iraq 3611\", \"Ireland 24251\", \"Israel 16659\", \"Italy 226699\", \"Jamaica 520\", \"Japan 16367\", \"Jordan 649\", \"Kazakhstan 6751\", \"Kenya 963\", \"Korea, South 11110\", \"Kuwait 16764\", \"Kyrgyzstan 1243\", \"Latvia 1012\", \"Lebanon 954\", \"Liberia 233\", \"Liechtenstein 82\", \"Lithuania 1562\", \"Luxembourg 3958\", \"Madagascar 326\", \"Malaysia 6978\", \"Maldives 1143\", \"Malta 569\", \"Mauritania 131\", \"Mauritius 332\", \"Mexico 54346\", \"Moldova 6340\", \"Monaco 97\", \"Mongolia 140\", \"Montenegro 324\", \"Morocco 7023\", \"Namibia 16\", \"Nepal 402\", \"Netherlands 101\", \"Netherlands 16\", \"Netherlands 77\", \"Netherlands 44249\", \"New Zealand 1503\", \"Nicaragua 254\", \"Niger 914\", \"Nigeria 6401\", \"North Macedonia 1839\", \"Norway 8267\", \"Oman 5671\", \"Pakistan 43966\", \"Panama 9867\", \"Papua New Guinea 8\", \"Paraguay 829\", \"Peru 99483\", \"Philippines 12942\", \"Poland 19268\", \"Portugal 29432\", \"Qatar 35606\", \"Romania 17191\", \"Russia 299941\", \"Rwanda 308\", \"Saint Lucia 18\", \"Saint Vincent and the Grenadines 17\", \"San Marino 655\", \"Saudi Arabia 59854\", \"Senegal 2617\", \"Serbia 10733\", \"Seychelles 11\", \"Singapore 28794\", \"Slovakia 1495\", \"Slovenia 1467\", \"Somalia 1502\", \"South Africa 17200\", \"Spain 232037\", \"Sri Lanka 1027\", \"Sudan 2728\", \"Suriname 11\", \"Sweden 30799\", \"Switzerland 30618\", \"Taiwan* 440\", \"Tanzania 509\", \"Thailand 3033\", \"Togo 338\", \"Trinidad and Tobago 116\", \"Tunisia 1044\", \"Turkey 151615\", \"Uganda 260\", \"Ukraine 18876\", \"United Arab Emirates 25063\", \"United Kingdom 125\", \"United Kingdom 111\", \"United Kingdom 555\", \"United Kingdom 147\", \"United Kingdom 335\", \"United Kingdom 11\", \"United Kingdom 248818\", \"Uruguay 738\", \"US 1528568\", \"Uzbekistan 2855\", \"Venezuela 749\", \"Vietnam 324\", \"Zambia 772\", \"Zimbabwe 46\", \"Canada 1\", \"Dominica 16\", \"Grenada 22\", \"Mozambique 146\", \"Syria 58\", \"Timor-Leste 24\", \"Belize 18\", \"Laos 19\", \"Libya 68\", \"West Bank and Gaza 391\", \"Guinea-Bissau 1038\", \"Mali 901\", \"Saint Kitts and Nevis 15\", \"Canada 5\", \"Canada 11\", \"Kosovo 989\", \"Burma 193\", \"United Kingdom 3\", \"United Kingdom 8\", \"United Kingdom 12\", \"MS Zaandam 9\", \"Botswana 25\", \"Burundi 42\", \"Sierra Leone 534\", \"Netherlands 6\", \"Malawi 70\", \"United Kingdom 13\", \"France 1\", \"South Sudan 290\", \"Western Sahara 6\", \"Sao Tome and Principe 251\", \"Yemen 167\", \"Comoros 11\", \"Tajikistan 1936\", \"Lesotho 1\"], \"type\": \"scattergeo\"}],\n",
       "                        {\"geo\": {\"scope\": \"world\", \"showland\": true}, \"template\": {\"data\": {\"bar\": [{\"error_x\": {\"color\": \"#2a3f5f\"}, \"error_y\": {\"color\": \"#2a3f5f\"}, \"marker\": {\"line\": {\"color\": \"#E5ECF6\", \"width\": 0.5}}, \"type\": \"bar\"}], \"barpolar\": [{\"marker\": {\"line\": {\"color\": \"#E5ECF6\", \"width\": 0.5}}, \"type\": \"barpolar\"}], \"carpet\": [{\"aaxis\": {\"endlinecolor\": \"#2a3f5f\", \"gridcolor\": \"white\", \"linecolor\": \"white\", \"minorgridcolor\": \"white\", \"startlinecolor\": \"#2a3f5f\"}, \"baxis\": {\"endlinecolor\": \"#2a3f5f\", \"gridcolor\": \"white\", \"linecolor\": \"white\", \"minorgridcolor\": \"white\", \"startlinecolor\": \"#2a3f5f\"}, \"type\": \"carpet\"}], \"choropleth\": [{\"colorbar\": {\"outlinewidth\": 0, \"ticks\": \"\"}, \"type\": \"choropleth\"}], \"contour\": [{\"colorbar\": {\"outlinewidth\": 0, \"ticks\": \"\"}, \"colorscale\": [[0.0, \"#0d0887\"], [0.1111111111111111, \"#46039f\"], [0.2222222222222222, \"#7201a8\"], [0.3333333333333333, \"#9c179e\"], [0.4444444444444444, \"#bd3786\"], [0.5555555555555556, \"#d8576b\"], [0.6666666666666666, \"#ed7953\"], [0.7777777777777778, \"#fb9f3a\"], [0.8888888888888888, \"#fdca26\"], [1.0, \"#f0f921\"]], \"type\": \"contour\"}], \"contourcarpet\": [{\"colorbar\": {\"outlinewidth\": 0, \"ticks\": \"\"}, \"type\": \"contourcarpet\"}], \"heatmap\": [{\"colorbar\": {\"outlinewidth\": 0, \"ticks\": \"\"}, \"colorscale\": [[0.0, \"#0d0887\"], [0.1111111111111111, \"#46039f\"], [0.2222222222222222, \"#7201a8\"], [0.3333333333333333, \"#9c179e\"], [0.4444444444444444, \"#bd3786\"], [0.5555555555555556, \"#d8576b\"], [0.6666666666666666, \"#ed7953\"], [0.7777777777777778, \"#fb9f3a\"], [0.8888888888888888, \"#fdca26\"], [1.0, \"#f0f921\"]], \"type\": \"heatmap\"}], \"heatmapgl\": [{\"colorbar\": {\"outlinewidth\": 0, \"ticks\": \"\"}, \"colorscale\": [[0.0, \"#0d0887\"], [0.1111111111111111, \"#46039f\"], [0.2222222222222222, \"#7201a8\"], [0.3333333333333333, \"#9c179e\"], [0.4444444444444444, \"#bd3786\"], [0.5555555555555556, \"#d8576b\"], [0.6666666666666666, \"#ed7953\"], [0.7777777777777778, \"#fb9f3a\"], [0.8888888888888888, \"#fdca26\"], [1.0, \"#f0f921\"]], \"type\": \"heatmapgl\"}], \"histogram\": [{\"marker\": {\"colorbar\": {\"outlinewidth\": 0, \"ticks\": \"\"}}, \"type\": \"histogram\"}], \"histogram2d\": [{\"colorbar\": {\"outlinewidth\": 0, \"ticks\": \"\"}, \"colorscale\": [[0.0, \"#0d0887\"], [0.1111111111111111, \"#46039f\"], [0.2222222222222222, \"#7201a8\"], [0.3333333333333333, \"#9c179e\"], [0.4444444444444444, \"#bd3786\"], [0.5555555555555556, \"#d8576b\"], [0.6666666666666666, \"#ed7953\"], [0.7777777777777778, \"#fb9f3a\"], [0.8888888888888888, \"#fdca26\"], [1.0, \"#f0f921\"]], \"type\": \"histogram2d\"}], \"histogram2dcontour\": [{\"colorbar\": {\"outlinewidth\": 0, \"ticks\": \"\"}, \"colorscale\": [[0.0, \"#0d0887\"], [0.1111111111111111, \"#46039f\"], [0.2222222222222222, \"#7201a8\"], [0.3333333333333333, \"#9c179e\"], [0.4444444444444444, \"#bd3786\"], [0.5555555555555556, \"#d8576b\"], [0.6666666666666666, \"#ed7953\"], [0.7777777777777778, \"#fb9f3a\"], [0.8888888888888888, \"#fdca26\"], [1.0, \"#f0f921\"]], \"type\": \"histogram2dcontour\"}], \"mesh3d\": [{\"colorbar\": {\"outlinewidth\": 0, \"ticks\": \"\"}, \"type\": \"mesh3d\"}], \"parcoords\": [{\"line\": {\"colorbar\": {\"outlinewidth\": 0, \"ticks\": \"\"}}, \"type\": \"parcoords\"}], \"pie\": [{\"automargin\": true, \"type\": \"pie\"}], \"scatter\": [{\"marker\": {\"colorbar\": {\"outlinewidth\": 0, \"ticks\": \"\"}}, \"type\": \"scatter\"}], \"scatter3d\": [{\"line\": {\"colorbar\": {\"outlinewidth\": 0, \"ticks\": \"\"}}, \"marker\": {\"colorbar\": {\"outlinewidth\": 0, \"ticks\": \"\"}}, \"type\": \"scatter3d\"}], \"scattercarpet\": [{\"marker\": {\"colorbar\": {\"outlinewidth\": 0, \"ticks\": \"\"}}, \"type\": \"scattercarpet\"}], \"scattergeo\": [{\"marker\": {\"colorbar\": {\"outlinewidth\": 0, \"ticks\": \"\"}}, \"type\": \"scattergeo\"}], \"scattergl\": [{\"marker\": {\"colorbar\": {\"outlinewidth\": 0, \"ticks\": \"\"}}, \"type\": \"scattergl\"}], \"scattermapbox\": [{\"marker\": {\"colorbar\": {\"outlinewidth\": 0, \"ticks\": \"\"}}, \"type\": \"scattermapbox\"}], \"scatterpolar\": [{\"marker\": {\"colorbar\": {\"outlinewidth\": 0, \"ticks\": \"\"}}, \"type\": \"scatterpolar\"}], \"scatterpolargl\": [{\"marker\": {\"colorbar\": {\"outlinewidth\": 0, \"ticks\": \"\"}}, \"type\": \"scatterpolargl\"}], \"scatterternary\": [{\"marker\": {\"colorbar\": {\"outlinewidth\": 0, \"ticks\": \"\"}}, \"type\": \"scatterternary\"}], \"surface\": [{\"colorbar\": {\"outlinewidth\": 0, \"ticks\": \"\"}, \"colorscale\": [[0.0, \"#0d0887\"], [0.1111111111111111, \"#46039f\"], [0.2222222222222222, \"#7201a8\"], [0.3333333333333333, \"#9c179e\"], [0.4444444444444444, \"#bd3786\"], [0.5555555555555556, \"#d8576b\"], [0.6666666666666666, \"#ed7953\"], [0.7777777777777778, \"#fb9f3a\"], [0.8888888888888888, \"#fdca26\"], [1.0, \"#f0f921\"]], \"type\": \"surface\"}], \"table\": [{\"cells\": {\"fill\": {\"color\": \"#EBF0F8\"}, \"line\": {\"color\": \"white\"}}, \"header\": {\"fill\": {\"color\": \"#C8D4E3\"}, \"line\": {\"color\": \"white\"}}, \"type\": \"table\"}]}, \"layout\": {\"annotationdefaults\": {\"arrowcolor\": \"#2a3f5f\", \"arrowhead\": 0, \"arrowwidth\": 1}, \"coloraxis\": {\"colorbar\": {\"outlinewidth\": 0, \"ticks\": \"\"}}, \"colorscale\": {\"diverging\": [[0, \"#8e0152\"], [0.1, \"#c51b7d\"], [0.2, \"#de77ae\"], [0.3, \"#f1b6da\"], [0.4, \"#fde0ef\"], [0.5, \"#f7f7f7\"], [0.6, \"#e6f5d0\"], [0.7, \"#b8e186\"], [0.8, \"#7fbc41\"], [0.9, \"#4d9221\"], [1, \"#276419\"]], \"sequential\": [[0.0, \"#0d0887\"], [0.1111111111111111, \"#46039f\"], [0.2222222222222222, \"#7201a8\"], [0.3333333333333333, \"#9c179e\"], [0.4444444444444444, \"#bd3786\"], [0.5555555555555556, \"#d8576b\"], [0.6666666666666666, \"#ed7953\"], [0.7777777777777778, \"#fb9f3a\"], [0.8888888888888888, \"#fdca26\"], [1.0, \"#f0f921\"]], \"sequentialminus\": [[0.0, \"#0d0887\"], [0.1111111111111111, \"#46039f\"], [0.2222222222222222, \"#7201a8\"], [0.3333333333333333, \"#9c179e\"], [0.4444444444444444, \"#bd3786\"], [0.5555555555555556, \"#d8576b\"], [0.6666666666666666, \"#ed7953\"], [0.7777777777777778, \"#fb9f3a\"], [0.8888888888888888, \"#fdca26\"], [1.0, \"#f0f921\"]]}, \"colorway\": [\"#636efa\", \"#EF553B\", \"#00cc96\", \"#ab63fa\", \"#FFA15A\", \"#19d3f3\", \"#FF6692\", \"#B6E880\", \"#FF97FF\", \"#FECB52\"], \"font\": {\"color\": \"#2a3f5f\"}, \"geo\": {\"bgcolor\": \"white\", \"lakecolor\": \"white\", \"landcolor\": \"#E5ECF6\", \"showlakes\": true, \"showland\": true, \"subunitcolor\": \"white\"}, \"hoverlabel\": {\"align\": \"left\"}, \"hovermode\": \"closest\", \"mapbox\": {\"style\": \"light\"}, \"paper_bgcolor\": \"white\", \"plot_bgcolor\": \"#E5ECF6\", \"polar\": {\"angularaxis\": {\"gridcolor\": \"white\", \"linecolor\": \"white\", \"ticks\": \"\"}, \"bgcolor\": \"#E5ECF6\", \"radialaxis\": {\"gridcolor\": \"white\", \"linecolor\": \"white\", \"ticks\": \"\"}}, \"scene\": {\"xaxis\": {\"backgroundcolor\": \"#E5ECF6\", \"gridcolor\": \"white\", \"gridwidth\": 2, \"linecolor\": \"white\", \"showbackground\": true, \"ticks\": \"\", \"zerolinecolor\": \"white\"}, \"yaxis\": {\"backgroundcolor\": \"#E5ECF6\", \"gridcolor\": \"white\", \"gridwidth\": 2, \"linecolor\": \"white\", \"showbackground\": true, \"ticks\": \"\", \"zerolinecolor\": \"white\"}, \"zaxis\": {\"backgroundcolor\": \"#E5ECF6\", \"gridcolor\": \"white\", \"gridwidth\": 2, \"linecolor\": \"white\", \"showbackground\": true, \"ticks\": \"\", \"zerolinecolor\": \"white\"}}, \"shapedefaults\": {\"line\": {\"color\": \"#2a3f5f\"}}, \"ternary\": {\"aaxis\": {\"gridcolor\": \"white\", \"linecolor\": \"white\", \"ticks\": \"\"}, \"baxis\": {\"gridcolor\": \"white\", \"linecolor\": \"white\", \"ticks\": \"\"}, \"bgcolor\": \"#E5ECF6\", \"caxis\": {\"gridcolor\": \"white\", \"linecolor\": \"white\", \"ticks\": \"\"}}, \"title\": {\"x\": 0.05}, \"xaxis\": {\"automargin\": true, \"gridcolor\": \"white\", \"linecolor\": \"white\", \"ticks\": \"\", \"title\": {\"standoff\": 15}, \"zerolinecolor\": \"white\", \"zerolinewidth\": 2}, \"yaxis\": {\"automargin\": true, \"gridcolor\": \"white\", \"linecolor\": \"white\", \"ticks\": \"\", \"title\": {\"standoff\": 15}, \"zerolinecolor\": \"white\", \"zerolinewidth\": 2}}}, \"title\": {\"text\": \"COVID-19 Confirmed Cases Around the World\"}},\n",
       "                        {\"responsive\": true}\n",
       "                    ).then(function(){\n",
       "                            \n",
       "var gd = document.getElementById('9ed91a64-c23c-4dfb-8a89-ff5a85bf6571');\n",
       "var x = new MutationObserver(function (mutations, observer) {{\n",
       "        var display = window.getComputedStyle(gd).display;\n",
       "        if (!display || display === 'none') {{\n",
       "            console.log([gd, 'removed!']);\n",
       "            Plotly.purge(gd);\n",
       "            observer.disconnect();\n",
       "        }}\n",
       "}});\n",
       "\n",
       "// Listen for the removal of the full notebook cells\n",
       "var notebookContainer = gd.closest('#notebook-container');\n",
       "if (notebookContainer) {{\n",
       "    x.observe(notebookContainer, {childList: true});\n",
       "}}\n",
       "\n",
       "// Listen for the clearing of the current output cell\n",
       "var outputEl = gd.closest('.output');\n",
       "if (outputEl) {{\n",
       "    x.observe(outputEl, {childList: true});\n",
       "}}\n",
       "\n",
       "                        })\n",
       "                };\n",
       "                });\n",
       "            </script>\n",
       "        </div>"
      ]
     },
     "metadata": {},
     "output_type": "display_data"
    }
   ],
   "source": [
    "df = pd.read_csv(\"https://raw.githubusercontent.com/CSSEGISandData/COVID-19/master/csse_covid_19_data/csse_covid_19_time_series/time_series_covid19_confirmed_global.csv\")\n",
    "df['text'] = df['Country/Region'] + \" \" + df[\"5/19/20\"].astype(str)\n",
    "fig = go.Figure(data = go.Scattergeo(\n",
    "    lon = df[\"Long\"],\n",
    "    lat = df[\"Lat\"],\n",
    "    text = df[\"text\"],\n",
    "    mode = \"markers\",\n",
    "    marker = dict(\n",
    "        size = 12,\n",
    "        opacity = 0.8,\n",
    "        reversescale = True,\n",
    "        autocolorscale = True,\n",
    "        symbol = 'circle',\n",
    "        #line represents the lines around the little boxes\n",
    "        line = dict(\n",
    "            width = 1,\n",
    "            color = 'rgba(102, 102, 102)'\n",
    "        ),\n",
    "        cmin = 0,\n",
    "        color = df['5/19/20'],\n",
    "        cmax = df['5/19/20'].max(),\n",
    "        colorbar_title = \"COVID 19 Reported Cases\"\n",
    "    )\n",
    "))\n",
    "\n",
    "fig.update_layout(\n",
    "    title = \"COVID-19 Confirmed Cases Around the World\",\n",
    "    geo = dict(\n",
    "        scope = \"world\",\n",
    "        showland = True,\n",
    "    )\n",
    ")\n",
    "\n",
    "fig.show()"
   ]
  },
  {
   "cell_type": "markdown",
   "metadata": {},
   "source": [
    "## Scatterplot of COVID-19 Cases Across the United States Map"
   ]
  },
  {
   "cell_type": "code",
   "execution_count": 45,
   "metadata": {},
   "outputs": [
    {
     "data": {
      "application/vnd.plotly.v1+json": {
       "config": {
        "plotlyServerURL": "https://plot.ly"
       },
       "data": [
        {
         "lat": [
          32.361538,
          58.301935,
          33.448457,
          34.736009,
          38.555605,
          39.7391667,
          41.767,
          39.161921,
          30.4518,
          33.76,
          21.30895,
          43.613739,
          39.78325,
          39.790942,
          41.590939,
          39.04,
          38.197274,
          30.45809,
          44.323535,
          38.972945,
          42.2352,
          42.7335,
          44.95,
          32.32,
          38.572954,
          46.595805,
          40.809868,
          39.160949,
          43.220093,
          40.221741,
          35.667231,
          42.659829,
          35.771,
          48.813343,
          39.962245,
          35.482309,
          44.931109,
          40.269789,
          41.82355,
          34,
          44.367966,
          36.165,
          30.266667,
          40.7547,
          44.26639,
          37.54,
          47.042418,
          38.349497,
          43.074722,
          41.145548
         ],
         "lon": [
          -86.279118,
          -134.41974,
          -112.073844,
          -92.331122,
          -121.468926,
          -104.984167,
          -72.677,
          -75.526755,
          -84.27277,
          -84.39,
          -157.826182,
          -116.237651,
          -89.650373,
          -86.147685,
          -93.620866,
          -95.69,
          -84.86311,
          -91.140229,
          -69.765261,
          -76.501157,
          -71.0275,
          -84.5467,
          -93.094,
          -90.207,
          -92.189283,
          -112.027031,
          -96.675345,
          -119.753877,
          -71.549127,
          -74.756138,
          -105.964575,
          -73.781339,
          -78.638,
          -100.779004,
          -83.000647,
          -97.534994,
          -123.029159,
          -76.875613,
          -71.422132,
          -81.035,
          -100.336378,
          -86.784,
          -97.75,
          -111.892622,
          -72.57194,
          -77.46,
          -122.893077,
          -81.633294,
          -89.384444,
          -104.802042
         ],
         "marker": {
          "cmax": 356278,
          "cmin": 0,
          "color": [
           12086,
           399,
           14170,
           4813,
           81943,
           22174,
           38116,
           7869,
           46434,
           36634,
           630,
           2455,
           96778,
           28897,
           14955,
           8439,
           8041,
           34832,
           1713,
           39882,
           87052,
           51853,
           16381,
           11432,
           11225,
           470,
           10625,
           7059,
           3652,
           148039,
           6096,
           356278,
           19121,
           1931,
           28455,
           5398,
           3687,
           66676,
           12795,
           8942,
           4027,
           17767,
           49788,
           7384,
           940,
           31140,
           19521,
           1502,
           12722,
           766
          ],
          "colorbar": {
           "title": {
            "text": "COVID 19 Reported Cases"
           }
          },
          "colorscale": [
           [
            0,
            "rgb(44, 255, 150)"
           ],
           [
            0.125,
            "rgb(151, 255, 0)"
           ],
           [
            0.3,
            "rgb(255, 234, 0)"
           ],
           [
            0.75,
            "rgb(255, 111, 0)"
           ],
           [
            0.9,
            "rgb(255, 0, 0)"
           ],
           [
            1,
            "rgb(255, 0, 0)"
           ]
          ],
          "line": {
           "color": "rgba(102, 102, 102)",
           "width": 1
          },
          "opacity": 0.8,
          "reversescale": false,
          "size": 12,
          "symbol": "diamond"
         },
         "mode": "markers",
         "text": [
          "Alabama 12086.0",
          "Alaska 399.0",
          "Arizona 14170.0",
          "Arkansas 4813.0",
          "California 81943.0",
          "Colorado 22174.0",
          "Connecticut 38116.0",
          "Delaware 7869.0",
          "Florida 46434.0",
          "Georgia 36634.0",
          "Hawaii 630.0",
          "Idaho 2455.0",
          "Illinois 96778.0",
          "Indiana 28897.0",
          "Iowa 14955.0",
          "Kansas 8439.0",
          "Kentucky 8041.0",
          "Louisiana 34832.0",
          "Maine 1713.0",
          "Maryland 39882.0",
          "Massachusetts 87052.0",
          "Michigan 51853.0",
          "Minnesota 16381.0",
          "Mississippi 11432.0",
          "Missouri 11225.0",
          "Montana 470.0",
          "Nebraska 10625.0",
          "Nevada 7059.0",
          "New Hampshire 3652.0",
          "New Jersey 148039.0",
          "New Mexico 6096.0",
          "New York 356278.0",
          "North Carolina 19121.0",
          "North Dakota 1931.0",
          "Ohio 28455.0",
          "Oklahoma 5398.0",
          "Oregon 3687.0",
          "Pennsylvania 66676.0",
          "Rhode Island 12795.0",
          "South Carolina 8942.0",
          "South Dakota 4027.0",
          "Tennessee 17767.0",
          "Texas 49788.0",
          "Utah 7384.0",
          "Vermont 940.0",
          "Virginia 31140.0",
          "Washington 19521.0",
          "West Virginia 1502.0",
          "Wisconsin 12722.0",
          "Wyoming 766.0"
         ],
         "type": "scattergeo"
        }
       ],
       "layout": {
        "geo": {
         "scope": "usa",
         "showland": true
        },
        "template": {
         "data": {
          "bar": [
           {
            "error_x": {
             "color": "#2a3f5f"
            },
            "error_y": {
             "color": "#2a3f5f"
            },
            "marker": {
             "line": {
              "color": "#E5ECF6",
              "width": 0.5
             }
            },
            "type": "bar"
           }
          ],
          "barpolar": [
           {
            "marker": {
             "line": {
              "color": "#E5ECF6",
              "width": 0.5
             }
            },
            "type": "barpolar"
           }
          ],
          "carpet": [
           {
            "aaxis": {
             "endlinecolor": "#2a3f5f",
             "gridcolor": "white",
             "linecolor": "white",
             "minorgridcolor": "white",
             "startlinecolor": "#2a3f5f"
            },
            "baxis": {
             "endlinecolor": "#2a3f5f",
             "gridcolor": "white",
             "linecolor": "white",
             "minorgridcolor": "white",
             "startlinecolor": "#2a3f5f"
            },
            "type": "carpet"
           }
          ],
          "choropleth": [
           {
            "colorbar": {
             "outlinewidth": 0,
             "ticks": ""
            },
            "type": "choropleth"
           }
          ],
          "contour": [
           {
            "colorbar": {
             "outlinewidth": 0,
             "ticks": ""
            },
            "colorscale": [
             [
              0,
              "#0d0887"
             ],
             [
              0.1111111111111111,
              "#46039f"
             ],
             [
              0.2222222222222222,
              "#7201a8"
             ],
             [
              0.3333333333333333,
              "#9c179e"
             ],
             [
              0.4444444444444444,
              "#bd3786"
             ],
             [
              0.5555555555555556,
              "#d8576b"
             ],
             [
              0.6666666666666666,
              "#ed7953"
             ],
             [
              0.7777777777777778,
              "#fb9f3a"
             ],
             [
              0.8888888888888888,
              "#fdca26"
             ],
             [
              1,
              "#f0f921"
             ]
            ],
            "type": "contour"
           }
          ],
          "contourcarpet": [
           {
            "colorbar": {
             "outlinewidth": 0,
             "ticks": ""
            },
            "type": "contourcarpet"
           }
          ],
          "heatmap": [
           {
            "colorbar": {
             "outlinewidth": 0,
             "ticks": ""
            },
            "colorscale": [
             [
              0,
              "#0d0887"
             ],
             [
              0.1111111111111111,
              "#46039f"
             ],
             [
              0.2222222222222222,
              "#7201a8"
             ],
             [
              0.3333333333333333,
              "#9c179e"
             ],
             [
              0.4444444444444444,
              "#bd3786"
             ],
             [
              0.5555555555555556,
              "#d8576b"
             ],
             [
              0.6666666666666666,
              "#ed7953"
             ],
             [
              0.7777777777777778,
              "#fb9f3a"
             ],
             [
              0.8888888888888888,
              "#fdca26"
             ],
             [
              1,
              "#f0f921"
             ]
            ],
            "type": "heatmap"
           }
          ],
          "heatmapgl": [
           {
            "colorbar": {
             "outlinewidth": 0,
             "ticks": ""
            },
            "colorscale": [
             [
              0,
              "#0d0887"
             ],
             [
              0.1111111111111111,
              "#46039f"
             ],
             [
              0.2222222222222222,
              "#7201a8"
             ],
             [
              0.3333333333333333,
              "#9c179e"
             ],
             [
              0.4444444444444444,
              "#bd3786"
             ],
             [
              0.5555555555555556,
              "#d8576b"
             ],
             [
              0.6666666666666666,
              "#ed7953"
             ],
             [
              0.7777777777777778,
              "#fb9f3a"
             ],
             [
              0.8888888888888888,
              "#fdca26"
             ],
             [
              1,
              "#f0f921"
             ]
            ],
            "type": "heatmapgl"
           }
          ],
          "histogram": [
           {
            "marker": {
             "colorbar": {
              "outlinewidth": 0,
              "ticks": ""
             }
            },
            "type": "histogram"
           }
          ],
          "histogram2d": [
           {
            "colorbar": {
             "outlinewidth": 0,
             "ticks": ""
            },
            "colorscale": [
             [
              0,
              "#0d0887"
             ],
             [
              0.1111111111111111,
              "#46039f"
             ],
             [
              0.2222222222222222,
              "#7201a8"
             ],
             [
              0.3333333333333333,
              "#9c179e"
             ],
             [
              0.4444444444444444,
              "#bd3786"
             ],
             [
              0.5555555555555556,
              "#d8576b"
             ],
             [
              0.6666666666666666,
              "#ed7953"
             ],
             [
              0.7777777777777778,
              "#fb9f3a"
             ],
             [
              0.8888888888888888,
              "#fdca26"
             ],
             [
              1,
              "#f0f921"
             ]
            ],
            "type": "histogram2d"
           }
          ],
          "histogram2dcontour": [
           {
            "colorbar": {
             "outlinewidth": 0,
             "ticks": ""
            },
            "colorscale": [
             [
              0,
              "#0d0887"
             ],
             [
              0.1111111111111111,
              "#46039f"
             ],
             [
              0.2222222222222222,
              "#7201a8"
             ],
             [
              0.3333333333333333,
              "#9c179e"
             ],
             [
              0.4444444444444444,
              "#bd3786"
             ],
             [
              0.5555555555555556,
              "#d8576b"
             ],
             [
              0.6666666666666666,
              "#ed7953"
             ],
             [
              0.7777777777777778,
              "#fb9f3a"
             ],
             [
              0.8888888888888888,
              "#fdca26"
             ],
             [
              1,
              "#f0f921"
             ]
            ],
            "type": "histogram2dcontour"
           }
          ],
          "mesh3d": [
           {
            "colorbar": {
             "outlinewidth": 0,
             "ticks": ""
            },
            "type": "mesh3d"
           }
          ],
          "parcoords": [
           {
            "line": {
             "colorbar": {
              "outlinewidth": 0,
              "ticks": ""
             }
            },
            "type": "parcoords"
           }
          ],
          "pie": [
           {
            "automargin": true,
            "type": "pie"
           }
          ],
          "scatter": [
           {
            "marker": {
             "colorbar": {
              "outlinewidth": 0,
              "ticks": ""
             }
            },
            "type": "scatter"
           }
          ],
          "scatter3d": [
           {
            "line": {
             "colorbar": {
              "outlinewidth": 0,
              "ticks": ""
             }
            },
            "marker": {
             "colorbar": {
              "outlinewidth": 0,
              "ticks": ""
             }
            },
            "type": "scatter3d"
           }
          ],
          "scattercarpet": [
           {
            "marker": {
             "colorbar": {
              "outlinewidth": 0,
              "ticks": ""
             }
            },
            "type": "scattercarpet"
           }
          ],
          "scattergeo": [
           {
            "marker": {
             "colorbar": {
              "outlinewidth": 0,
              "ticks": ""
             }
            },
            "type": "scattergeo"
           }
          ],
          "scattergl": [
           {
            "marker": {
             "colorbar": {
              "outlinewidth": 0,
              "ticks": ""
             }
            },
            "type": "scattergl"
           }
          ],
          "scattermapbox": [
           {
            "marker": {
             "colorbar": {
              "outlinewidth": 0,
              "ticks": ""
             }
            },
            "type": "scattermapbox"
           }
          ],
          "scatterpolar": [
           {
            "marker": {
             "colorbar": {
              "outlinewidth": 0,
              "ticks": ""
             }
            },
            "type": "scatterpolar"
           }
          ],
          "scatterpolargl": [
           {
            "marker": {
             "colorbar": {
              "outlinewidth": 0,
              "ticks": ""
             }
            },
            "type": "scatterpolargl"
           }
          ],
          "scatterternary": [
           {
            "marker": {
             "colorbar": {
              "outlinewidth": 0,
              "ticks": ""
             }
            },
            "type": "scatterternary"
           }
          ],
          "surface": [
           {
            "colorbar": {
             "outlinewidth": 0,
             "ticks": ""
            },
            "colorscale": [
             [
              0,
              "#0d0887"
             ],
             [
              0.1111111111111111,
              "#46039f"
             ],
             [
              0.2222222222222222,
              "#7201a8"
             ],
             [
              0.3333333333333333,
              "#9c179e"
             ],
             [
              0.4444444444444444,
              "#bd3786"
             ],
             [
              0.5555555555555556,
              "#d8576b"
             ],
             [
              0.6666666666666666,
              "#ed7953"
             ],
             [
              0.7777777777777778,
              "#fb9f3a"
             ],
             [
              0.8888888888888888,
              "#fdca26"
             ],
             [
              1,
              "#f0f921"
             ]
            ],
            "type": "surface"
           }
          ],
          "table": [
           {
            "cells": {
             "fill": {
              "color": "#EBF0F8"
             },
             "line": {
              "color": "white"
             }
            },
            "header": {
             "fill": {
              "color": "#C8D4E3"
             },
             "line": {
              "color": "white"
             }
            },
            "type": "table"
           }
          ]
         },
         "layout": {
          "annotationdefaults": {
           "arrowcolor": "#2a3f5f",
           "arrowhead": 0,
           "arrowwidth": 1
          },
          "coloraxis": {
           "colorbar": {
            "outlinewidth": 0,
            "ticks": ""
           }
          },
          "colorscale": {
           "diverging": [
            [
             0,
             "#8e0152"
            ],
            [
             0.1,
             "#c51b7d"
            ],
            [
             0.2,
             "#de77ae"
            ],
            [
             0.3,
             "#f1b6da"
            ],
            [
             0.4,
             "#fde0ef"
            ],
            [
             0.5,
             "#f7f7f7"
            ],
            [
             0.6,
             "#e6f5d0"
            ],
            [
             0.7,
             "#b8e186"
            ],
            [
             0.8,
             "#7fbc41"
            ],
            [
             0.9,
             "#4d9221"
            ],
            [
             1,
             "#276419"
            ]
           ],
           "sequential": [
            [
             0,
             "#0d0887"
            ],
            [
             0.1111111111111111,
             "#46039f"
            ],
            [
             0.2222222222222222,
             "#7201a8"
            ],
            [
             0.3333333333333333,
             "#9c179e"
            ],
            [
             0.4444444444444444,
             "#bd3786"
            ],
            [
             0.5555555555555556,
             "#d8576b"
            ],
            [
             0.6666666666666666,
             "#ed7953"
            ],
            [
             0.7777777777777778,
             "#fb9f3a"
            ],
            [
             0.8888888888888888,
             "#fdca26"
            ],
            [
             1,
             "#f0f921"
            ]
           ],
           "sequentialminus": [
            [
             0,
             "#0d0887"
            ],
            [
             0.1111111111111111,
             "#46039f"
            ],
            [
             0.2222222222222222,
             "#7201a8"
            ],
            [
             0.3333333333333333,
             "#9c179e"
            ],
            [
             0.4444444444444444,
             "#bd3786"
            ],
            [
             0.5555555555555556,
             "#d8576b"
            ],
            [
             0.6666666666666666,
             "#ed7953"
            ],
            [
             0.7777777777777778,
             "#fb9f3a"
            ],
            [
             0.8888888888888888,
             "#fdca26"
            ],
            [
             1,
             "#f0f921"
            ]
           ]
          },
          "colorway": [
           "#636efa",
           "#EF553B",
           "#00cc96",
           "#ab63fa",
           "#FFA15A",
           "#19d3f3",
           "#FF6692",
           "#B6E880",
           "#FF97FF",
           "#FECB52"
          ],
          "font": {
           "color": "#2a3f5f"
          },
          "geo": {
           "bgcolor": "white",
           "lakecolor": "white",
           "landcolor": "#E5ECF6",
           "showlakes": true,
           "showland": true,
           "subunitcolor": "white"
          },
          "hoverlabel": {
           "align": "left"
          },
          "hovermode": "closest",
          "mapbox": {
           "style": "light"
          },
          "paper_bgcolor": "white",
          "plot_bgcolor": "#E5ECF6",
          "polar": {
           "angularaxis": {
            "gridcolor": "white",
            "linecolor": "white",
            "ticks": ""
           },
           "bgcolor": "#E5ECF6",
           "radialaxis": {
            "gridcolor": "white",
            "linecolor": "white",
            "ticks": ""
           }
          },
          "scene": {
           "xaxis": {
            "backgroundcolor": "#E5ECF6",
            "gridcolor": "white",
            "gridwidth": 2,
            "linecolor": "white",
            "showbackground": true,
            "ticks": "",
            "zerolinecolor": "white"
           },
           "yaxis": {
            "backgroundcolor": "#E5ECF6",
            "gridcolor": "white",
            "gridwidth": 2,
            "linecolor": "white",
            "showbackground": true,
            "ticks": "",
            "zerolinecolor": "white"
           },
           "zaxis": {
            "backgroundcolor": "#E5ECF6",
            "gridcolor": "white",
            "gridwidth": 2,
            "linecolor": "white",
            "showbackground": true,
            "ticks": "",
            "zerolinecolor": "white"
           }
          },
          "shapedefaults": {
           "line": {
            "color": "#2a3f5f"
           }
          },
          "ternary": {
           "aaxis": {
            "gridcolor": "white",
            "linecolor": "white",
            "ticks": ""
           },
           "baxis": {
            "gridcolor": "white",
            "linecolor": "white",
            "ticks": ""
           },
           "bgcolor": "#E5ECF6",
           "caxis": {
            "gridcolor": "white",
            "linecolor": "white",
            "ticks": ""
           }
          },
          "title": {
           "x": 0.05
          },
          "xaxis": {
           "automargin": true,
           "gridcolor": "white",
           "linecolor": "white",
           "ticks": "",
           "title": {
            "standoff": 15
           },
           "zerolinecolor": "white",
           "zerolinewidth": 2
          },
          "yaxis": {
           "automargin": true,
           "gridcolor": "white",
           "linecolor": "white",
           "ticks": "",
           "title": {
            "standoff": 15
           },
           "zerolinecolor": "white",
           "zerolinewidth": 2
          }
         }
        },
        "title": {
         "text": "COVID19 Confirmed Cases Across the United States"
        }
       }
      },
      "text/html": [
       "<div>\n",
       "        \n",
       "        \n",
       "            <div id=\"1f8957f0-8d20-4193-bf24-06f2a9c29712\" class=\"plotly-graph-div\" style=\"height:525px; width:100%;\"></div>\n",
       "            <script type=\"text/javascript\">\n",
       "                require([\"plotly\"], function(Plotly) {\n",
       "                    window.PLOTLYENV=window.PLOTLYENV || {};\n",
       "                    \n",
       "                if (document.getElementById(\"1f8957f0-8d20-4193-bf24-06f2a9c29712\")) {\n",
       "                    Plotly.newPlot(\n",
       "                        '1f8957f0-8d20-4193-bf24-06f2a9c29712',\n",
       "                        [{\"lat\": [32.361538, 58.301935, 33.448457, 34.736009, 38.555605, 39.7391667, 41.767, 39.161921, 30.4518, 33.76, 21.30895, 43.613739, 39.78325, 39.790942, 41.590939, 39.04, 38.197274, 30.45809, 44.323535, 38.972945, 42.2352, 42.7335, 44.95, 32.32, 38.572954, 46.595805, 40.809868, 39.160949, 43.220093, 40.221741, 35.667231, 42.659829, 35.771, 48.813343, 39.962245, 35.482309, 44.931109, 40.269789, 41.82355, 34.0, 44.367966, 36.165, 30.266667, 40.7547, 44.26639, 37.54, 47.042418, 38.349497, 43.074722, 41.145548], \"lon\": [-86.279118, -134.41974, -112.073844, -92.331122, -121.468926, -104.984167, -72.677, -75.526755, -84.27277, -84.39, -157.826182, -116.237651, -89.650373, -86.147685, -93.620866, -95.69, -84.86311, -91.140229, -69.765261, -76.501157, -71.0275, -84.5467, -93.094, -90.207, -92.189283, -112.027031, -96.675345, -119.753877, -71.549127, -74.756138, -105.964575, -73.781339, -78.638, -100.779004, -83.000647, -97.534994, -123.029159, -76.875613, -71.422132, -81.035, -100.336378, -86.784, -97.75, -111.892622, -72.57194, -77.46, -122.893077, -81.633294, -89.384444, -104.802042], \"marker\": {\"cmax\": 356278.0, \"cmin\": 0, \"color\": [12086.0, 399.0, 14170.0, 4813.0, 81943.0, 22174.0, 38116.0, 7869.0, 46434.0, 36634.0, 630.0, 2455.0, 96778.0, 28897.0, 14955.0, 8439.0, 8041.0, 34832.0, 1713.0, 39882.0, 87052.0, 51853.0, 16381.0, 11432.0, 11225.0, 470.0, 10625.0, 7059.0, 3652.0, 148039.0, 6096.0, 356278.0, 19121.0, 1931.0, 28455.0, 5398.0, 3687.0, 66676.0, 12795.0, 8942.0, 4027.0, 17767.0, 49788.0, 7384.0, 940.0, 31140.0, 19521.0, 1502.0, 12722.0, 766.0], \"colorbar\": {\"title\": {\"text\": \"COVID 19 Reported Cases\"}}, \"colorscale\": [[0, \"rgb(44, 255, 150)\"], [0.125, \"rgb(151, 255, 0)\"], [0.3, \"rgb(255, 234, 0)\"], [0.75, \"rgb(255, 111, 0)\"], [0.9, \"rgb(255, 0, 0)\"], [1, \"rgb(255, 0, 0)\"]], \"line\": {\"color\": \"rgba(102, 102, 102)\", \"width\": 1}, \"opacity\": 0.8, \"reversescale\": false, \"size\": 12, \"symbol\": \"diamond\"}, \"mode\": \"markers\", \"text\": [\"Alabama 12086.0\", \"Alaska 399.0\", \"Arizona 14170.0\", \"Arkansas 4813.0\", \"California 81943.0\", \"Colorado 22174.0\", \"Connecticut 38116.0\", \"Delaware 7869.0\", \"Florida 46434.0\", \"Georgia 36634.0\", \"Hawaii 630.0\", \"Idaho 2455.0\", \"Illinois 96778.0\", \"Indiana 28897.0\", \"Iowa 14955.0\", \"Kansas 8439.0\", \"Kentucky 8041.0\", \"Louisiana 34832.0\", \"Maine 1713.0\", \"Maryland 39882.0\", \"Massachusetts 87052.0\", \"Michigan 51853.0\", \"Minnesota 16381.0\", \"Mississippi 11432.0\", \"Missouri 11225.0\", \"Montana 470.0\", \"Nebraska 10625.0\", \"Nevada 7059.0\", \"New Hampshire 3652.0\", \"New Jersey 148039.0\", \"New Mexico 6096.0\", \"New York 356278.0\", \"North Carolina 19121.0\", \"North Dakota 1931.0\", \"Ohio 28455.0\", \"Oklahoma 5398.0\", \"Oregon 3687.0\", \"Pennsylvania 66676.0\", \"Rhode Island 12795.0\", \"South Carolina 8942.0\", \"South Dakota 4027.0\", \"Tennessee 17767.0\", \"Texas 49788.0\", \"Utah 7384.0\", \"Vermont 940.0\", \"Virginia 31140.0\", \"Washington 19521.0\", \"West Virginia 1502.0\", \"Wisconsin 12722.0\", \"Wyoming 766.0\"], \"type\": \"scattergeo\"}],\n",
       "                        {\"geo\": {\"scope\": \"usa\", \"showland\": true}, \"template\": {\"data\": {\"bar\": [{\"error_x\": {\"color\": \"#2a3f5f\"}, \"error_y\": {\"color\": \"#2a3f5f\"}, \"marker\": {\"line\": {\"color\": \"#E5ECF6\", \"width\": 0.5}}, \"type\": \"bar\"}], \"barpolar\": [{\"marker\": {\"line\": {\"color\": \"#E5ECF6\", \"width\": 0.5}}, \"type\": \"barpolar\"}], \"carpet\": [{\"aaxis\": {\"endlinecolor\": \"#2a3f5f\", \"gridcolor\": \"white\", \"linecolor\": \"white\", \"minorgridcolor\": \"white\", \"startlinecolor\": \"#2a3f5f\"}, \"baxis\": {\"endlinecolor\": \"#2a3f5f\", \"gridcolor\": \"white\", \"linecolor\": \"white\", \"minorgridcolor\": \"white\", \"startlinecolor\": \"#2a3f5f\"}, \"type\": \"carpet\"}], \"choropleth\": [{\"colorbar\": {\"outlinewidth\": 0, \"ticks\": \"\"}, \"type\": \"choropleth\"}], \"contour\": [{\"colorbar\": {\"outlinewidth\": 0, \"ticks\": \"\"}, \"colorscale\": [[0.0, \"#0d0887\"], [0.1111111111111111, \"#46039f\"], [0.2222222222222222, \"#7201a8\"], [0.3333333333333333, \"#9c179e\"], [0.4444444444444444, \"#bd3786\"], [0.5555555555555556, \"#d8576b\"], [0.6666666666666666, \"#ed7953\"], [0.7777777777777778, \"#fb9f3a\"], [0.8888888888888888, \"#fdca26\"], [1.0, \"#f0f921\"]], \"type\": \"contour\"}], \"contourcarpet\": [{\"colorbar\": {\"outlinewidth\": 0, \"ticks\": \"\"}, \"type\": \"contourcarpet\"}], \"heatmap\": [{\"colorbar\": {\"outlinewidth\": 0, \"ticks\": \"\"}, \"colorscale\": [[0.0, \"#0d0887\"], [0.1111111111111111, \"#46039f\"], [0.2222222222222222, \"#7201a8\"], [0.3333333333333333, \"#9c179e\"], [0.4444444444444444, \"#bd3786\"], [0.5555555555555556, \"#d8576b\"], [0.6666666666666666, \"#ed7953\"], [0.7777777777777778, \"#fb9f3a\"], [0.8888888888888888, \"#fdca26\"], [1.0, \"#f0f921\"]], \"type\": \"heatmap\"}], \"heatmapgl\": [{\"colorbar\": {\"outlinewidth\": 0, \"ticks\": \"\"}, \"colorscale\": [[0.0, \"#0d0887\"], [0.1111111111111111, \"#46039f\"], [0.2222222222222222, \"#7201a8\"], [0.3333333333333333, \"#9c179e\"], [0.4444444444444444, \"#bd3786\"], [0.5555555555555556, \"#d8576b\"], [0.6666666666666666, \"#ed7953\"], [0.7777777777777778, \"#fb9f3a\"], [0.8888888888888888, \"#fdca26\"], [1.0, \"#f0f921\"]], \"type\": \"heatmapgl\"}], \"histogram\": [{\"marker\": {\"colorbar\": {\"outlinewidth\": 0, \"ticks\": \"\"}}, \"type\": \"histogram\"}], \"histogram2d\": [{\"colorbar\": {\"outlinewidth\": 0, \"ticks\": \"\"}, \"colorscale\": [[0.0, \"#0d0887\"], [0.1111111111111111, \"#46039f\"], [0.2222222222222222, \"#7201a8\"], [0.3333333333333333, \"#9c179e\"], [0.4444444444444444, \"#bd3786\"], [0.5555555555555556, \"#d8576b\"], [0.6666666666666666, \"#ed7953\"], [0.7777777777777778, \"#fb9f3a\"], [0.8888888888888888, \"#fdca26\"], [1.0, \"#f0f921\"]], \"type\": \"histogram2d\"}], \"histogram2dcontour\": [{\"colorbar\": {\"outlinewidth\": 0, \"ticks\": \"\"}, \"colorscale\": [[0.0, \"#0d0887\"], [0.1111111111111111, \"#46039f\"], [0.2222222222222222, \"#7201a8\"], [0.3333333333333333, \"#9c179e\"], [0.4444444444444444, \"#bd3786\"], [0.5555555555555556, \"#d8576b\"], [0.6666666666666666, \"#ed7953\"], [0.7777777777777778, \"#fb9f3a\"], [0.8888888888888888, \"#fdca26\"], [1.0, \"#f0f921\"]], \"type\": \"histogram2dcontour\"}], \"mesh3d\": [{\"colorbar\": {\"outlinewidth\": 0, \"ticks\": \"\"}, \"type\": \"mesh3d\"}], \"parcoords\": [{\"line\": {\"colorbar\": {\"outlinewidth\": 0, \"ticks\": \"\"}}, \"type\": \"parcoords\"}], \"pie\": [{\"automargin\": true, \"type\": \"pie\"}], \"scatter\": [{\"marker\": {\"colorbar\": {\"outlinewidth\": 0, \"ticks\": \"\"}}, \"type\": \"scatter\"}], \"scatter3d\": [{\"line\": {\"colorbar\": {\"outlinewidth\": 0, \"ticks\": \"\"}}, \"marker\": {\"colorbar\": {\"outlinewidth\": 0, \"ticks\": \"\"}}, \"type\": \"scatter3d\"}], \"scattercarpet\": [{\"marker\": {\"colorbar\": {\"outlinewidth\": 0, \"ticks\": \"\"}}, \"type\": \"scattercarpet\"}], \"scattergeo\": [{\"marker\": {\"colorbar\": {\"outlinewidth\": 0, \"ticks\": \"\"}}, \"type\": \"scattergeo\"}], \"scattergl\": [{\"marker\": {\"colorbar\": {\"outlinewidth\": 0, \"ticks\": \"\"}}, \"type\": \"scattergl\"}], \"scattermapbox\": [{\"marker\": {\"colorbar\": {\"outlinewidth\": 0, \"ticks\": \"\"}}, \"type\": \"scattermapbox\"}], \"scatterpolar\": [{\"marker\": {\"colorbar\": {\"outlinewidth\": 0, \"ticks\": \"\"}}, \"type\": \"scatterpolar\"}], \"scatterpolargl\": [{\"marker\": {\"colorbar\": {\"outlinewidth\": 0, \"ticks\": \"\"}}, \"type\": \"scatterpolargl\"}], \"scatterternary\": [{\"marker\": {\"colorbar\": {\"outlinewidth\": 0, \"ticks\": \"\"}}, \"type\": \"scatterternary\"}], \"surface\": [{\"colorbar\": {\"outlinewidth\": 0, \"ticks\": \"\"}, \"colorscale\": [[0.0, \"#0d0887\"], [0.1111111111111111, \"#46039f\"], [0.2222222222222222, \"#7201a8\"], [0.3333333333333333, \"#9c179e\"], [0.4444444444444444, \"#bd3786\"], [0.5555555555555556, \"#d8576b\"], [0.6666666666666666, \"#ed7953\"], [0.7777777777777778, \"#fb9f3a\"], [0.8888888888888888, \"#fdca26\"], [1.0, \"#f0f921\"]], \"type\": \"surface\"}], \"table\": [{\"cells\": {\"fill\": {\"color\": \"#EBF0F8\"}, \"line\": {\"color\": \"white\"}}, \"header\": {\"fill\": {\"color\": \"#C8D4E3\"}, \"line\": {\"color\": \"white\"}}, \"type\": \"table\"}]}, \"layout\": {\"annotationdefaults\": {\"arrowcolor\": \"#2a3f5f\", \"arrowhead\": 0, \"arrowwidth\": 1}, \"coloraxis\": {\"colorbar\": {\"outlinewidth\": 0, \"ticks\": \"\"}}, \"colorscale\": {\"diverging\": [[0, \"#8e0152\"], [0.1, \"#c51b7d\"], [0.2, \"#de77ae\"], [0.3, \"#f1b6da\"], [0.4, \"#fde0ef\"], [0.5, \"#f7f7f7\"], [0.6, \"#e6f5d0\"], [0.7, \"#b8e186\"], [0.8, \"#7fbc41\"], [0.9, \"#4d9221\"], [1, \"#276419\"]], \"sequential\": [[0.0, \"#0d0887\"], [0.1111111111111111, \"#46039f\"], [0.2222222222222222, \"#7201a8\"], [0.3333333333333333, \"#9c179e\"], [0.4444444444444444, \"#bd3786\"], [0.5555555555555556, \"#d8576b\"], [0.6666666666666666, \"#ed7953\"], [0.7777777777777778, \"#fb9f3a\"], [0.8888888888888888, \"#fdca26\"], [1.0, \"#f0f921\"]], \"sequentialminus\": [[0.0, \"#0d0887\"], [0.1111111111111111, \"#46039f\"], [0.2222222222222222, \"#7201a8\"], [0.3333333333333333, \"#9c179e\"], [0.4444444444444444, \"#bd3786\"], [0.5555555555555556, \"#d8576b\"], [0.6666666666666666, \"#ed7953\"], [0.7777777777777778, \"#fb9f3a\"], [0.8888888888888888, \"#fdca26\"], [1.0, \"#f0f921\"]]}, \"colorway\": [\"#636efa\", \"#EF553B\", \"#00cc96\", \"#ab63fa\", \"#FFA15A\", \"#19d3f3\", \"#FF6692\", \"#B6E880\", \"#FF97FF\", \"#FECB52\"], \"font\": {\"color\": \"#2a3f5f\"}, \"geo\": {\"bgcolor\": \"white\", \"lakecolor\": \"white\", \"landcolor\": \"#E5ECF6\", \"showlakes\": true, \"showland\": true, \"subunitcolor\": \"white\"}, \"hoverlabel\": {\"align\": \"left\"}, \"hovermode\": \"closest\", \"mapbox\": {\"style\": \"light\"}, \"paper_bgcolor\": \"white\", \"plot_bgcolor\": \"#E5ECF6\", \"polar\": {\"angularaxis\": {\"gridcolor\": \"white\", \"linecolor\": \"white\", \"ticks\": \"\"}, \"bgcolor\": \"#E5ECF6\", \"radialaxis\": {\"gridcolor\": \"white\", \"linecolor\": \"white\", \"ticks\": \"\"}}, \"scene\": {\"xaxis\": {\"backgroundcolor\": \"#E5ECF6\", \"gridcolor\": \"white\", \"gridwidth\": 2, \"linecolor\": \"white\", \"showbackground\": true, \"ticks\": \"\", \"zerolinecolor\": \"white\"}, \"yaxis\": {\"backgroundcolor\": \"#E5ECF6\", \"gridcolor\": \"white\", \"gridwidth\": 2, \"linecolor\": \"white\", \"showbackground\": true, \"ticks\": \"\", \"zerolinecolor\": \"white\"}, \"zaxis\": {\"backgroundcolor\": \"#E5ECF6\", \"gridcolor\": \"white\", \"gridwidth\": 2, \"linecolor\": \"white\", \"showbackground\": true, \"ticks\": \"\", \"zerolinecolor\": \"white\"}}, \"shapedefaults\": {\"line\": {\"color\": \"#2a3f5f\"}}, \"ternary\": {\"aaxis\": {\"gridcolor\": \"white\", \"linecolor\": \"white\", \"ticks\": \"\"}, \"baxis\": {\"gridcolor\": \"white\", \"linecolor\": \"white\", \"ticks\": \"\"}, \"bgcolor\": \"#E5ECF6\", \"caxis\": {\"gridcolor\": \"white\", \"linecolor\": \"white\", \"ticks\": \"\"}}, \"title\": {\"x\": 0.05}, \"xaxis\": {\"automargin\": true, \"gridcolor\": \"white\", \"linecolor\": \"white\", \"ticks\": \"\", \"title\": {\"standoff\": 15}, \"zerolinecolor\": \"white\", \"zerolinewidth\": 2}, \"yaxis\": {\"automargin\": true, \"gridcolor\": \"white\", \"linecolor\": \"white\", \"ticks\": \"\", \"title\": {\"standoff\": 15}, \"zerolinecolor\": \"white\", \"zerolinewidth\": 2}}}, \"title\": {\"text\": \"COVID19 Confirmed Cases Across the United States\"}},\n",
       "                        {\"responsive\": true}\n",
       "                    ).then(function(){\n",
       "                            \n",
       "var gd = document.getElementById('1f8957f0-8d20-4193-bf24-06f2a9c29712');\n",
       "var x = new MutationObserver(function (mutations, observer) {{\n",
       "        var display = window.getComputedStyle(gd).display;\n",
       "        if (!display || display === 'none') {{\n",
       "            console.log([gd, 'removed!']);\n",
       "            Plotly.purge(gd);\n",
       "            observer.disconnect();\n",
       "        }}\n",
       "}});\n",
       "\n",
       "// Listen for the removal of the full notebook cells\n",
       "var notebookContainer = gd.closest('#notebook-container');\n",
       "if (notebookContainer) {{\n",
       "    x.observe(notebookContainer, {childList: true});\n",
       "}}\n",
       "\n",
       "// Listen for the clearing of the current output cell\n",
       "var outputEl = gd.closest('.output');\n",
       "if (outputEl) {{\n",
       "    x.observe(outputEl, {childList: true});\n",
       "}}\n",
       "\n",
       "                        })\n",
       "                };\n",
       "                });\n",
       "            </script>\n",
       "        </div>"
      ]
     },
     "metadata": {},
     "output_type": "display_data"
    }
   ],
   "source": [
    "#Read in US_states data.\n",
    "df = pd.read_csv(\"https://raw.githubusercontent.com/nytimes/covid-19-data/master/us-states.csv\")\n",
    "\n",
    "#Compiled 3 lists of information.\n",
    "\n",
    "statesList = [\"Alabama\",\"Alaska\",\"Arizona\",\"Arkansas\",\"California\",\"Colorado\",\n",
    "  \"Connecticut\",\"Delaware\",\"Florida\",\"Georgia\",\"Hawaii\",\"Idaho\",\"Illinois\",\n",
    "  \"Indiana\",\"Iowa\",\"Kansas\",\"Kentucky\",\"Louisiana\",\"Maine\",\"Maryland\",\n",
    "  \"Massachusetts\",\"Michigan\",\"Minnesota\",\"Mississippi\",\"Missouri\",\"Montana\",\n",
    "  \"Nebraska\",\"Nevada\",\"New Hampshire\",\"New Jersey\",\"New Mexico\",\"New York\",\n",
    "  \"North Carolina\",\"North Dakota\",\"Ohio\",\"Oklahoma\",\"Oregon\",\"Pennsylvania\",\n",
    "  \"Rhode Island\",\"South Carolina\",\"South Dakota\",\"Tennessee\",\"Texas\",\"Utah\",\n",
    "  \"Vermont\",\"Virginia\",\"Washington\",\"West Virginia\",\"Wisconsin\",\"Wyoming\"]\n",
    "\n",
    "latitudes = [32.361538, 58.301935, 33.448457, 34.736009, 38.555605, 39.7391667, 41.767, 39.161921, 30.4518, 33.76,\n",
    "            21.30895, 43.613739, 39.783250, 39.790942, 41.590939, 39.04, 38.197274, 30.45809, 44.323535, 38.972945,\n",
    "            42.2352, 42.7335, 44.95,32.320, 38.572954,46.595805,40.809868,39.160949,43.220093, 40.221741,35.667231,\n",
    "            42.659829,35.771, 48.813343,39.962245, 35.482309,44.931109, 40.269789, 41.82355, 34.000,  44.367966,36.165,\n",
    "            30.266667,40.7547,44.26639, 37.54, 47.042418,38.349497,43.074722, 41.145548]\n",
    "\n",
    "longitudes = [-86.279118,-134.419740,-112.073844, -92.331122,-121.468926 ,-104.984167 ,-72.677 , -75.526755 ,\n",
    "              -84.27277,-84.39,-157.826182 ,-116.237651 ,-89.650373 ,-86.147685 ,-93.620866 ,-95.69 , -84.86311\n",
    "              ,-91.140229 ,-69.765261 ,-76.501157 ,-71.0275 ,-84.5467 , -93.094 ,-90.207 , -92.189283\n",
    "              , -112.027031 ,-96.675345 ,-119.753877 ,-71.549127 , -74.756138, -105.964575 , -73.781339 ,-78.638 \n",
    "              ,-100.779004 ,-83.000647 , -97.534994,-123.029159 ,-76.875613 , -71.422132, -81.035, -100.336378\n",
    "              ,-86.784 ,-97.75 ,-111.892622 ,-72.57194 ,-77.46 ,-122.893077 ,-81.633294 ,-89.384444 ,-104.802042]\n",
    "\n",
    "#Separate df_formatted from df. Create list of states and their latitudes and longitudes.\n",
    "df_formatted = pd.DataFrame(statesList, columns = ['state'])\n",
    "df_formatted['lat'] = latitudes\n",
    "df_formatted['long'] = longitudes\n",
    "#Create columns for each date, start off by zeroing out everything.\n",
    "#previousDate = datetime.datetime(2020, 1, 1) #Commented out because datetime is no longer a type.\n",
    "previousDate = \"2020-01-01\"\n",
    "for i in range(len(df['date'])):\n",
    "    if df['date'][i] != previousDate:\n",
    "        df_formatted[df['date'][i]] = 0\n",
    "\n",
    "#Set index to states temporarily.\n",
    "df_formatted.set_index('state', inplace=True)\n",
    "\n",
    "#Get number of cases from df and put them in df_formatted.  \n",
    "for i in range(len(df['state'])):\n",
    "    df_formatted.loc[df['state'][i], df['date'][i]] = df['cases'][i]\n",
    "    #Format for .loc : df_formatted.loc['index/row label', 'column label'] = 'value'\n",
    "    \n",
    "#Reset index when done so that state becomes a column without being the index.\n",
    "df_formatted.reset_index(inplace=True)\n",
    "\n",
    "#Drop last 5 rows because we are focusing on the 50 states.\n",
    "df_formatted.drop([50,51,52,53,54], inplace=True)\n",
    "\n",
    "\n",
    "\n",
    "#Set text elements that will appear over the data points. This means when we hover over a data point on the map, \n",
    "#the predefined text (e.g. State Name + number of cases on May 18th) will pop up.\n",
    "df_formatted['text'] = df_formatted['state'] + \" \" + df_formatted[\"2020-05-18\"].astype(str)\n",
    "\n",
    "scl = [[0,\"rgb(44, 255, 150)\"],[0.125,\"rgb(151, 255, 0)\"],\\\n",
    "[0.3,\"rgb(255, 234, 0)\"],[0.75,\"rgb(255, 111, 0)\"],[0.9,\"rgb(255, 0, 0)\"],[1,\"rgb(255, 0, 0)\"]]\n",
    "\n",
    "fig = go.Figure(data = go.Scattergeo(\n",
    "    lon = df_formatted[\"long\"],\n",
    "    lat = df_formatted[\"lat\"],\n",
    "    text = df_formatted[\"text\"],\n",
    "    mode = \"markers\",\n",
    "    marker = dict(\n",
    "        size = 12,\n",
    "        opacity = 0.8,\n",
    "        #autocolorscale = True,\n",
    "        colorscale = scl,\n",
    "        reversescale = False,\n",
    "        symbol = 'diamond',\n",
    "        line = dict(\n",
    "            width = 1,\n",
    "            color = 'rgba(102, 102, 102)'\n",
    "        ),\n",
    "        cmin = 0,\n",
    "        color = df_formatted['2020-05-18'],\n",
    "        cmax = df_formatted['2020-05-18'].max(),\n",
    "        colorbar_title = \"COVID 19 Reported Cases\"\n",
    "    )\n",
    "))\n",
    "               \n",
    "               \n",
    "fig.update_layout(\n",
    "    title = \"COVID19 Confirmed Cases Across the United States\",\n",
    "    geo = dict(\n",
    "        scope = \"usa\",\n",
    "        showland = True,\n",
    "    )\n",
    ")\n",
    "fig.show()\n",
    "#fig.write_html('first_figure.html', auto_open=True)"
   ]
  },
  {
   "cell_type": "code",
   "execution_count": null,
   "metadata": {},
   "outputs": [],
   "source": []
  }
 ],
 "metadata": {
  "kernelspec": {
   "display_name": "Python 3",
   "language": "python",
   "name": "python3"
  },
  "language_info": {
   "codemirror_mode": {
    "name": "ipython",
    "version": 3
   },
   "file_extension": ".py",
   "mimetype": "text/x-python",
   "name": "python",
   "nbconvert_exporter": "python",
   "pygments_lexer": "ipython3",
   "version": "3.7.6"
  }
 },
 "nbformat": 4,
 "nbformat_minor": 4
}
